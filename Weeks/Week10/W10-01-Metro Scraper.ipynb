{
 "cells": [
  {
   "cell_type": "markdown",
   "metadata": {
    "toc": true
   },
   "source": [
    "<h1>Table of Contents<span class=\"tocSkip\"></span></h1>\n",
    "<div class=\"toc\"><ul class=\"toc-item\"><li><span><a href=\"#A-real-time-bus-tracker\" data-toc-modified-id=\"A-real-time-bus-tracker-1\"><span class=\"toc-item-num\">1&nbsp;&nbsp;</span>A real-time bus tracker</a></span><ul class=\"toc-item\"><li><span><a href=\"#Import-libraries\" data-toc-modified-id=\"Import-libraries-1.1\"><span class=\"toc-item-num\">1.1&nbsp;&nbsp;</span>Import libraries</a></span></li><li><span><a href=\"#Playing-with-time\" data-toc-modified-id=\"Playing-with-time-1.2\"><span class=\"toc-item-num\">1.2&nbsp;&nbsp;</span>Playing with time</a></span></li><li><span><a href=\"#Import-data-from-metro-API\" data-toc-modified-id=\"Import-data-from-metro-API-1.3\"><span class=\"toc-item-num\">1.3&nbsp;&nbsp;</span>Import data from metro API</a></span><ul class=\"toc-item\"><li><span><a href=\"#Get-real-time-bus-locations-via-url-call\" data-toc-modified-id=\"Get-real-time-bus-locations-via-url-call-1.3.1\"><span class=\"toc-item-num\">1.3.1&nbsp;&nbsp;</span>Get real-time bus locations via url call</a></span></li><li><span><a href=\"#Convert-JSON-to-dataframe-and-add-a-timestamp\" data-toc-modified-id=\"Convert-JSON-to-dataframe-and-add-a-timestamp-1.3.2\"><span class=\"toc-item-num\">1.3.2&nbsp;&nbsp;</span>Convert JSON to dataframe and add a timestamp</a></span></li><li><span><a href=\"#Adjust-the-time\" data-toc-modified-id=\"Adjust-the-time-1.3.3\"><span class=\"toc-item-num\">1.3.3&nbsp;&nbsp;</span>Adjust the time</a></span></li><li><span><a href=\"#Create-an-empty-csv-file\" data-toc-modified-id=\"Create-an-empty-csv-file-1.3.4\"><span class=\"toc-item-num\">1.3.4&nbsp;&nbsp;</span>Create an empty csv file</a></span></li><li><span><a href=\"#Append-data-to-csv\" data-toc-modified-id=\"Append-data-to-csv-1.3.5\"><span class=\"toc-item-num\">1.3.5&nbsp;&nbsp;</span>Append data to csv</a></span></li></ul></li><li><span><a href=\"#Making-it-into-a-function\" data-toc-modified-id=\"Making-it-into-a-function-1.4\"><span class=\"toc-item-num\">1.4&nbsp;&nbsp;</span>Making it into a function</a></span></li><li><span><a href=\"#In-class-exercise\" data-toc-modified-id=\"In-class-exercise-1.5\"><span class=\"toc-item-num\">1.5&nbsp;&nbsp;</span>In class exercise</a></span></li><li><span><a href=\"#Automate-it\" data-toc-modified-id=\"Automate-it-1.6\"><span class=\"toc-item-num\">1.6&nbsp;&nbsp;</span>Automate it</a></span></li><li><span><a href=\"#Map-it\" data-toc-modified-id=\"Map-it-1.7\"><span class=\"toc-item-num\">1.7&nbsp;&nbsp;</span>Map it</a></span><ul class=\"toc-item\"><li><span><a href=\"#Plotly\" data-toc-modified-id=\"Plotly-1.7.1\"><span class=\"toc-item-num\">1.7.1&nbsp;&nbsp;</span>Plotly</a></span></li><li><span><a href=\"#Kepler\" data-toc-modified-id=\"Kepler-1.7.2\"><span class=\"toc-item-num\">1.7.2&nbsp;&nbsp;</span>Kepler</a></span></li></ul></li></ul></li></ul></div>"
   ]
  },
  {
   "cell_type": "markdown",
   "metadata": {},
   "source": [
    "<div class=\"alert alert-danger\">\n",
    "This lab will be recorded.\n",
    "</div>"
   ]
  },
  {
   "cell_type": "markdown",
   "metadata": {
    "slideshow": {
     "slide_type": "slide"
    }
   },
   "source": [
    "# A real-time bus tracker\n",
    "\n",
    "<img src='images/buses.gif' width=400>\n",
    "\n",
    "The LA Metro API provides information on the exact location of buses that are currently in operation. Using this real-time bus data, we can generate maps that display the location of buses for any given route. Furthermore, we can utilize this feed to create an archive of bus location associated with their timestamps. By creating a script that continously collects this information, we can simulate bus movement in the city for further analysis."
   ]
  },
  {
   "cell_type": "markdown",
   "metadata": {
    "slideshow": {
     "slide_type": "slide"
    }
   },
   "source": [
    "## Import libraries"
   ]
  },
  {
   "cell_type": "code",
   "execution_count": 1,
   "metadata": {},
   "outputs": [],
   "source": [
    "# libraries\n",
    "import pandas as pd\n",
    "import geopandas as gpd\n",
    "import matplotlib.pyplot as plt\n",
    "import plotly.express as px\n",
    "\n",
    "# to import and manipulate api/json data\n",
    "import urllib.request \n",
    "import json\n",
    "\n",
    "# to manipulate csv files\n",
    "import csv\n",
    "from csv import DictWriter\n",
    "\n",
    "# to work with time\n",
    "import datetime as dt\n",
    "from datetime import datetime\n",
    "import pytz\n",
    "from pytz import timezone"
   ]
  },
  {
   "attachments": {},
   "cell_type": "markdown",
   "metadata": {
    "slideshow": {
     "slide_type": "slide"
    }
   },
   "source": [
    "## Playing with time\n",
    "\n",
    "<img src='images/World_Time_Zones_Map.png' width=800>\n",
    "\n",
    "[[Source: Wikimedia](https://upload.wikimedia.org/wikipedia/commons/8/88/World_Time_Zones_Map.png)]\n",
    "\n",
    "Time is not the easiest thing to work with in Python, or for that matter, any coding language. There are surprisingly many complications (e.g. date/time datatypes, date/time display formats, timezones, etc) that make it difficult to work with. Below are some of the very basic constructs of the datetime library, along with the [pytz](https://pythonhosted.org/pytz/) library that allows you to define timezones."
   ]
  },
  {
   "cell_type": "markdown",
   "metadata": {},
   "source": [
    "Time formats as strings:\n",
    "\n",
    "- https://docs.python.org/3/library/time.html#time.strftime\n",
    "    "
   ]
  },
  {
   "cell_type": "code",
   "execution_count": 2,
   "metadata": {},
   "outputs": [
    {
     "name": "stdout",
     "output_type": "stream",
     "text": [
      "Current Time in UTC TimeZone: 2023-03-13 11:20:39 UTC+0000\n",
      "Current Time in Asia/Tokyo TimeZone: 2023-03-13 20:20:39 JST+0900\n"
     ]
    }
   ],
   "source": [
    "# giving the format of datetime\n",
    "format = \"%Y-%m-%d %H:%M:%S %Z%z\"\n",
    "\n",
    "# getting the current time in UTC timezone\n",
    "now_utc = datetime.now(timezone('UTC'))\n",
    "\n",
    "# Format the above DateTime using the strftime()\n",
    "print('Current Time in UTC TimeZone:',now_utc.strftime(format))\n",
    "\n",
    "# Converting to Asia/Tokyo time zone\n",
    "now_tokyo = now_utc.astimezone(timezone('Asia/Tokyo'))\n",
    "\n",
    "# Format the above datetime using the strftime()\n",
    "print('Current Time in Asia/Tokyo TimeZone:',now_tokyo.strftime(format))"
   ]
  },
  {
   "cell_type": "code",
   "execution_count": 3,
   "metadata": {
    "slideshow": {
     "slide_type": "slide"
    },
    "tags": []
   },
   "outputs": [
    {
     "name": "stdout",
     "output_type": "stream",
     "text": [
      "Africa/Abidjan\n",
      "Africa/Accra\n",
      "Africa/Addis_Ababa\n",
      "Africa/Algiers\n",
      "Africa/Asmara\n",
      "Africa/Asmera\n",
      "Africa/Bamako\n",
      "Africa/Bangui\n",
      "Africa/Banjul\n",
      "Africa/Bissau\n",
      "Africa/Blantyre\n",
      "Africa/Brazzaville\n",
      "Africa/Bujumbura\n",
      "Africa/Cairo\n",
      "Africa/Casablanca\n",
      "Africa/Ceuta\n",
      "Africa/Conakry\n",
      "Africa/Dakar\n",
      "Africa/Dar_es_Salaam\n",
      "Africa/Djibouti\n",
      "Africa/Douala\n",
      "Africa/El_Aaiun\n",
      "Africa/Freetown\n",
      "Africa/Gaborone\n",
      "Africa/Harare\n",
      "Africa/Johannesburg\n",
      "Africa/Juba\n",
      "Africa/Kampala\n",
      "Africa/Khartoum\n",
      "Africa/Kigali\n",
      "Africa/Kinshasa\n",
      "Africa/Lagos\n",
      "Africa/Libreville\n",
      "Africa/Lome\n",
      "Africa/Luanda\n",
      "Africa/Lubumbashi\n",
      "Africa/Lusaka\n",
      "Africa/Malabo\n",
      "Africa/Maputo\n",
      "Africa/Maseru\n",
      "Africa/Mbabane\n",
      "Africa/Mogadishu\n",
      "Africa/Monrovia\n",
      "Africa/Nairobi\n",
      "Africa/Ndjamena\n",
      "Africa/Niamey\n",
      "Africa/Nouakchott\n",
      "Africa/Ouagadougou\n",
      "Africa/Porto-Novo\n",
      "Africa/Sao_Tome\n",
      "Africa/Timbuktu\n",
      "Africa/Tripoli\n",
      "Africa/Tunis\n",
      "Africa/Windhoek\n",
      "America/Adak\n",
      "America/Anchorage\n",
      "America/Anguilla\n",
      "America/Antigua\n",
      "America/Araguaina\n",
      "America/Argentina/Buenos_Aires\n",
      "America/Argentina/Catamarca\n",
      "America/Argentina/ComodRivadavia\n",
      "America/Argentina/Cordoba\n",
      "America/Argentina/Jujuy\n",
      "America/Argentina/La_Rioja\n",
      "America/Argentina/Mendoza\n",
      "America/Argentina/Rio_Gallegos\n",
      "America/Argentina/Salta\n",
      "America/Argentina/San_Juan\n",
      "America/Argentina/San_Luis\n",
      "America/Argentina/Tucuman\n",
      "America/Argentina/Ushuaia\n",
      "America/Aruba\n",
      "America/Asuncion\n",
      "America/Atikokan\n",
      "America/Atka\n",
      "America/Bahia\n",
      "America/Bahia_Banderas\n",
      "America/Barbados\n",
      "America/Belem\n",
      "America/Belize\n",
      "America/Blanc-Sablon\n",
      "America/Boa_Vista\n",
      "America/Bogota\n",
      "America/Boise\n",
      "America/Buenos_Aires\n",
      "America/Cambridge_Bay\n",
      "America/Campo_Grande\n",
      "America/Cancun\n",
      "America/Caracas\n",
      "America/Catamarca\n",
      "America/Cayenne\n",
      "America/Cayman\n",
      "America/Chicago\n",
      "America/Chihuahua\n",
      "America/Ciudad_Juarez\n",
      "America/Coral_Harbour\n",
      "America/Cordoba\n",
      "America/Costa_Rica\n",
      "America/Creston\n",
      "America/Cuiaba\n",
      "America/Curacao\n",
      "America/Danmarkshavn\n",
      "America/Dawson\n",
      "America/Dawson_Creek\n",
      "America/Denver\n",
      "America/Detroit\n",
      "America/Dominica\n",
      "America/Edmonton\n",
      "America/Eirunepe\n",
      "America/El_Salvador\n",
      "America/Ensenada\n",
      "America/Fort_Nelson\n",
      "America/Fort_Wayne\n",
      "America/Fortaleza\n",
      "America/Glace_Bay\n",
      "America/Godthab\n",
      "America/Goose_Bay\n",
      "America/Grand_Turk\n",
      "America/Grenada\n",
      "America/Guadeloupe\n",
      "America/Guatemala\n",
      "America/Guayaquil\n",
      "America/Guyana\n",
      "America/Halifax\n",
      "America/Havana\n",
      "America/Hermosillo\n",
      "America/Indiana/Indianapolis\n",
      "America/Indiana/Knox\n",
      "America/Indiana/Marengo\n",
      "America/Indiana/Petersburg\n",
      "America/Indiana/Tell_City\n",
      "America/Indiana/Vevay\n",
      "America/Indiana/Vincennes\n",
      "America/Indiana/Winamac\n",
      "America/Indianapolis\n",
      "America/Inuvik\n",
      "America/Iqaluit\n",
      "America/Jamaica\n",
      "America/Jujuy\n",
      "America/Juneau\n",
      "America/Kentucky/Louisville\n",
      "America/Kentucky/Monticello\n",
      "America/Knox_IN\n",
      "America/Kralendijk\n",
      "America/La_Paz\n",
      "America/Lima\n",
      "America/Los_Angeles\n",
      "America/Louisville\n",
      "America/Lower_Princes\n",
      "America/Maceio\n",
      "America/Managua\n",
      "America/Manaus\n",
      "America/Marigot\n",
      "America/Martinique\n",
      "America/Matamoros\n",
      "America/Mazatlan\n",
      "America/Mendoza\n",
      "America/Menominee\n",
      "America/Merida\n",
      "America/Metlakatla\n",
      "America/Mexico_City\n",
      "America/Miquelon\n",
      "America/Moncton\n",
      "America/Monterrey\n",
      "America/Montevideo\n",
      "America/Montreal\n",
      "America/Montserrat\n",
      "America/Nassau\n",
      "America/New_York\n",
      "America/Nipigon\n",
      "America/Nome\n",
      "America/Noronha\n",
      "America/North_Dakota/Beulah\n",
      "America/North_Dakota/Center\n",
      "America/North_Dakota/New_Salem\n",
      "America/Nuuk\n",
      "America/Ojinaga\n",
      "America/Panama\n",
      "America/Pangnirtung\n",
      "America/Paramaribo\n",
      "America/Phoenix\n",
      "America/Port-au-Prince\n",
      "America/Port_of_Spain\n",
      "America/Porto_Acre\n",
      "America/Porto_Velho\n",
      "America/Puerto_Rico\n",
      "America/Punta_Arenas\n",
      "America/Rainy_River\n",
      "America/Rankin_Inlet\n",
      "America/Recife\n",
      "America/Regina\n",
      "America/Resolute\n",
      "America/Rio_Branco\n",
      "America/Rosario\n",
      "America/Santa_Isabel\n",
      "America/Santarem\n",
      "America/Santiago\n",
      "America/Santo_Domingo\n",
      "America/Sao_Paulo\n",
      "America/Scoresbysund\n",
      "America/Shiprock\n",
      "America/Sitka\n",
      "America/St_Barthelemy\n",
      "America/St_Johns\n",
      "America/St_Kitts\n",
      "America/St_Lucia\n",
      "America/St_Thomas\n",
      "America/St_Vincent\n",
      "America/Swift_Current\n",
      "America/Tegucigalpa\n",
      "America/Thule\n",
      "America/Thunder_Bay\n",
      "America/Tijuana\n",
      "America/Toronto\n",
      "America/Tortola\n",
      "America/Vancouver\n",
      "America/Virgin\n",
      "America/Whitehorse\n",
      "America/Winnipeg\n",
      "America/Yakutat\n",
      "America/Yellowknife\n",
      "Antarctica/Casey\n",
      "Antarctica/Davis\n",
      "Antarctica/DumontDUrville\n",
      "Antarctica/Macquarie\n",
      "Antarctica/Mawson\n",
      "Antarctica/McMurdo\n",
      "Antarctica/Palmer\n",
      "Antarctica/Rothera\n",
      "Antarctica/South_Pole\n",
      "Antarctica/Syowa\n",
      "Antarctica/Troll\n",
      "Antarctica/Vostok\n",
      "Arctic/Longyearbyen\n",
      "Asia/Aden\n",
      "Asia/Almaty\n",
      "Asia/Amman\n",
      "Asia/Anadyr\n",
      "Asia/Aqtau\n",
      "Asia/Aqtobe\n",
      "Asia/Ashgabat\n",
      "Asia/Ashkhabad\n",
      "Asia/Atyrau\n",
      "Asia/Baghdad\n",
      "Asia/Bahrain\n",
      "Asia/Baku\n",
      "Asia/Bangkok\n",
      "Asia/Barnaul\n",
      "Asia/Beirut\n",
      "Asia/Bishkek\n",
      "Asia/Brunei\n",
      "Asia/Calcutta\n",
      "Asia/Chita\n",
      "Asia/Choibalsan\n",
      "Asia/Chongqing\n",
      "Asia/Chungking\n",
      "Asia/Colombo\n",
      "Asia/Dacca\n",
      "Asia/Damascus\n",
      "Asia/Dhaka\n",
      "Asia/Dili\n",
      "Asia/Dubai\n",
      "Asia/Dushanbe\n",
      "Asia/Famagusta\n",
      "Asia/Gaza\n",
      "Asia/Harbin\n",
      "Asia/Hebron\n",
      "Asia/Ho_Chi_Minh\n",
      "Asia/Hong_Kong\n",
      "Asia/Hovd\n",
      "Asia/Irkutsk\n",
      "Asia/Istanbul\n",
      "Asia/Jakarta\n",
      "Asia/Jayapura\n",
      "Asia/Jerusalem\n",
      "Asia/Kabul\n",
      "Asia/Kamchatka\n",
      "Asia/Karachi\n",
      "Asia/Kashgar\n",
      "Asia/Kathmandu\n",
      "Asia/Katmandu\n",
      "Asia/Khandyga\n",
      "Asia/Kolkata\n",
      "Asia/Krasnoyarsk\n",
      "Asia/Kuala_Lumpur\n",
      "Asia/Kuching\n",
      "Asia/Kuwait\n",
      "Asia/Macao\n",
      "Asia/Macau\n",
      "Asia/Magadan\n",
      "Asia/Makassar\n",
      "Asia/Manila\n",
      "Asia/Muscat\n",
      "Asia/Nicosia\n",
      "Asia/Novokuznetsk\n",
      "Asia/Novosibirsk\n",
      "Asia/Omsk\n",
      "Asia/Oral\n",
      "Asia/Phnom_Penh\n",
      "Asia/Pontianak\n",
      "Asia/Pyongyang\n",
      "Asia/Qatar\n",
      "Asia/Qostanay\n",
      "Asia/Qyzylorda\n",
      "Asia/Rangoon\n",
      "Asia/Riyadh\n",
      "Asia/Saigon\n",
      "Asia/Sakhalin\n",
      "Asia/Samarkand\n",
      "Asia/Seoul\n",
      "Asia/Shanghai\n",
      "Asia/Singapore\n",
      "Asia/Srednekolymsk\n",
      "Asia/Taipei\n",
      "Asia/Tashkent\n",
      "Asia/Tbilisi\n",
      "Asia/Tehran\n",
      "Asia/Tel_Aviv\n",
      "Asia/Thimbu\n",
      "Asia/Thimphu\n",
      "Asia/Tokyo\n",
      "Asia/Tomsk\n",
      "Asia/Ujung_Pandang\n",
      "Asia/Ulaanbaatar\n",
      "Asia/Ulan_Bator\n",
      "Asia/Urumqi\n",
      "Asia/Ust-Nera\n",
      "Asia/Vientiane\n",
      "Asia/Vladivostok\n",
      "Asia/Yakutsk\n",
      "Asia/Yangon\n",
      "Asia/Yekaterinburg\n",
      "Asia/Yerevan\n",
      "Atlantic/Azores\n",
      "Atlantic/Bermuda\n",
      "Atlantic/Canary\n",
      "Atlantic/Cape_Verde\n",
      "Atlantic/Faeroe\n",
      "Atlantic/Faroe\n",
      "Atlantic/Jan_Mayen\n",
      "Atlantic/Madeira\n",
      "Atlantic/Reykjavik\n",
      "Atlantic/South_Georgia\n",
      "Atlantic/St_Helena\n",
      "Atlantic/Stanley\n",
      "Australia/ACT\n",
      "Australia/Adelaide\n",
      "Australia/Brisbane\n",
      "Australia/Broken_Hill\n",
      "Australia/Canberra\n",
      "Australia/Currie\n",
      "Australia/Darwin\n",
      "Australia/Eucla\n",
      "Australia/Hobart\n",
      "Australia/LHI\n",
      "Australia/Lindeman\n",
      "Australia/Lord_Howe\n",
      "Australia/Melbourne\n",
      "Australia/NSW\n",
      "Australia/North\n",
      "Australia/Perth\n",
      "Australia/Queensland\n",
      "Australia/South\n",
      "Australia/Sydney\n",
      "Australia/Tasmania\n",
      "Australia/Victoria\n",
      "Australia/West\n",
      "Australia/Yancowinna\n",
      "Brazil/Acre\n",
      "Brazil/DeNoronha\n",
      "Brazil/East\n",
      "Brazil/West\n",
      "CET\n",
      "CST6CDT\n",
      "Canada/Atlantic\n",
      "Canada/Central\n",
      "Canada/Eastern\n",
      "Canada/Mountain\n",
      "Canada/Newfoundland\n",
      "Canada/Pacific\n",
      "Canada/Saskatchewan\n",
      "Canada/Yukon\n",
      "Chile/Continental\n",
      "Chile/EasterIsland\n",
      "Cuba\n",
      "EET\n",
      "EST\n",
      "EST5EDT\n",
      "Egypt\n",
      "Eire\n",
      "Etc/GMT\n",
      "Etc/GMT+0\n",
      "Etc/GMT+1\n",
      "Etc/GMT+10\n",
      "Etc/GMT+11\n",
      "Etc/GMT+12\n",
      "Etc/GMT+2\n",
      "Etc/GMT+3\n",
      "Etc/GMT+4\n",
      "Etc/GMT+5\n",
      "Etc/GMT+6\n",
      "Etc/GMT+7\n",
      "Etc/GMT+8\n",
      "Etc/GMT+9\n",
      "Etc/GMT-0\n",
      "Etc/GMT-1\n",
      "Etc/GMT-10\n",
      "Etc/GMT-11\n",
      "Etc/GMT-12\n",
      "Etc/GMT-13\n",
      "Etc/GMT-14\n",
      "Etc/GMT-2\n",
      "Etc/GMT-3\n",
      "Etc/GMT-4\n",
      "Etc/GMT-5\n",
      "Etc/GMT-6\n",
      "Etc/GMT-7\n",
      "Etc/GMT-8\n",
      "Etc/GMT-9\n",
      "Etc/GMT0\n",
      "Etc/Greenwich\n",
      "Etc/UCT\n",
      "Etc/UTC\n",
      "Etc/Universal\n",
      "Etc/Zulu\n",
      "Europe/Amsterdam\n",
      "Europe/Andorra\n",
      "Europe/Astrakhan\n",
      "Europe/Athens\n",
      "Europe/Belfast\n",
      "Europe/Belgrade\n",
      "Europe/Berlin\n",
      "Europe/Bratislava\n",
      "Europe/Brussels\n",
      "Europe/Bucharest\n",
      "Europe/Budapest\n",
      "Europe/Busingen\n",
      "Europe/Chisinau\n",
      "Europe/Copenhagen\n",
      "Europe/Dublin\n",
      "Europe/Gibraltar\n",
      "Europe/Guernsey\n",
      "Europe/Helsinki\n",
      "Europe/Isle_of_Man\n",
      "Europe/Istanbul\n",
      "Europe/Jersey\n",
      "Europe/Kaliningrad\n",
      "Europe/Kiev\n",
      "Europe/Kirov\n",
      "Europe/Kyiv\n",
      "Europe/Lisbon\n",
      "Europe/Ljubljana\n",
      "Europe/London\n",
      "Europe/Luxembourg\n",
      "Europe/Madrid\n",
      "Europe/Malta\n",
      "Europe/Mariehamn\n",
      "Europe/Minsk\n",
      "Europe/Monaco\n",
      "Europe/Moscow\n",
      "Europe/Nicosia\n",
      "Europe/Oslo\n",
      "Europe/Paris\n",
      "Europe/Podgorica\n",
      "Europe/Prague\n",
      "Europe/Riga\n",
      "Europe/Rome\n",
      "Europe/Samara\n",
      "Europe/San_Marino\n",
      "Europe/Sarajevo\n",
      "Europe/Saratov\n",
      "Europe/Simferopol\n",
      "Europe/Skopje\n",
      "Europe/Sofia\n",
      "Europe/Stockholm\n",
      "Europe/Tallinn\n",
      "Europe/Tirane\n",
      "Europe/Tiraspol\n",
      "Europe/Ulyanovsk\n",
      "Europe/Uzhgorod\n",
      "Europe/Vaduz\n",
      "Europe/Vatican\n",
      "Europe/Vienna\n",
      "Europe/Vilnius\n",
      "Europe/Volgograd\n",
      "Europe/Warsaw\n",
      "Europe/Zagreb\n",
      "Europe/Zaporozhye\n",
      "Europe/Zurich\n",
      "GB\n",
      "GB-Eire\n",
      "GMT\n",
      "GMT+0\n",
      "GMT-0\n",
      "GMT0\n",
      "Greenwich\n",
      "HST\n",
      "Hongkong\n",
      "Iceland\n",
      "Indian/Antananarivo\n",
      "Indian/Chagos\n",
      "Indian/Christmas\n",
      "Indian/Cocos\n",
      "Indian/Comoro\n",
      "Indian/Kerguelen\n",
      "Indian/Mahe\n",
      "Indian/Maldives\n",
      "Indian/Mauritius\n",
      "Indian/Mayotte\n",
      "Indian/Reunion\n",
      "Iran\n",
      "Israel\n",
      "Jamaica\n",
      "Japan\n",
      "Kwajalein\n",
      "Libya\n",
      "MET\n",
      "MST\n",
      "MST7MDT\n",
      "Mexico/BajaNorte\n",
      "Mexico/BajaSur\n",
      "Mexico/General\n",
      "NZ\n",
      "NZ-CHAT\n",
      "Navajo\n",
      "PRC\n",
      "PST8PDT\n",
      "Pacific/Apia\n",
      "Pacific/Auckland\n",
      "Pacific/Bougainville\n",
      "Pacific/Chatham\n",
      "Pacific/Chuuk\n",
      "Pacific/Easter\n",
      "Pacific/Efate\n",
      "Pacific/Enderbury\n",
      "Pacific/Fakaofo\n",
      "Pacific/Fiji\n",
      "Pacific/Funafuti\n",
      "Pacific/Galapagos\n",
      "Pacific/Gambier\n",
      "Pacific/Guadalcanal\n",
      "Pacific/Guam\n",
      "Pacific/Honolulu\n",
      "Pacific/Johnston\n",
      "Pacific/Kanton\n",
      "Pacific/Kiritimati\n",
      "Pacific/Kosrae\n",
      "Pacific/Kwajalein\n",
      "Pacific/Majuro\n",
      "Pacific/Marquesas\n",
      "Pacific/Midway\n",
      "Pacific/Nauru\n",
      "Pacific/Niue\n",
      "Pacific/Norfolk\n",
      "Pacific/Noumea\n",
      "Pacific/Pago_Pago\n",
      "Pacific/Palau\n",
      "Pacific/Pitcairn\n",
      "Pacific/Pohnpei\n",
      "Pacific/Ponape\n",
      "Pacific/Port_Moresby\n",
      "Pacific/Rarotonga\n",
      "Pacific/Saipan\n",
      "Pacific/Samoa\n",
      "Pacific/Tahiti\n",
      "Pacific/Tarawa\n",
      "Pacific/Tongatapu\n",
      "Pacific/Truk\n",
      "Pacific/Wake\n",
      "Pacific/Wallis\n",
      "Pacific/Yap\n",
      "Poland\n",
      "Portugal\n",
      "ROC\n",
      "ROK\n",
      "Singapore\n",
      "Turkey\n",
      "UCT\n",
      "US/Alaska\n",
      "US/Aleutian\n",
      "US/Arizona\n",
      "US/Central\n",
      "US/East-Indiana\n",
      "US/Eastern\n",
      "US/Hawaii\n",
      "US/Indiana-Starke\n",
      "US/Michigan\n",
      "US/Mountain\n",
      "US/Pacific\n",
      "US/Samoa\n",
      "UTC\n",
      "Universal\n",
      "W-SU\n",
      "WET\n",
      "Zulu\n"
     ]
    }
   ],
   "source": [
    "# what are the valid timezones?\n",
    "for tz in pytz.all_timezones:\n",
    "    print(tz)"
   ]
  },
  {
   "cell_type": "code",
   "execution_count": 4,
   "metadata": {
    "slideshow": {
     "slide_type": "slide"
    }
   },
   "outputs": [],
   "source": [
    "# Using the logic above, output the time in LA right now\n",
    "\n"
   ]
  },
  {
   "cell_type": "code",
   "execution_count": 5,
   "metadata": {},
   "outputs": [],
   "source": [
    "# How about other time formats, and/or timezones from around the world?\n",
    "\n"
   ]
  },
  {
   "attachments": {},
   "cell_type": "markdown",
   "metadata": {
    "slideshow": {
     "slide_type": "slide"
    }
   },
   "source": [
    "# Import data from metro API\n",
    "\n",
    "![metro](https://i0.wp.com/brand.metro.net/wp-content/uploads/2018/08/metro-logo-preferred-e1543619521338.png?h=75)\n",
    "\n",
    "- https://api.metro.net/"
   ]
  },
  {
   "attachments": {},
   "cell_type": "markdown",
   "metadata": {
    "slideshow": {
     "slide_type": "fragment"
    }
   },
   "source": [
    "### Get real-time bus locations via url call\n",
    "\n",
    "Note that the metro data is provided by our hardworking alumni friend Albert!\n",
    "\n",
    "- https://api.metro.net/LACMTA/vehicle_positions/route_code/20?geojson=true"
   ]
  },
  {
   "attachments": {},
   "cell_type": "markdown",
   "metadata": {},
   "source": [
    "![Alt text](images/albert%20and%20yoh%20texts.png)"
   ]
  },
  {
   "cell_type": "code",
   "execution_count": 6,
   "metadata": {},
   "outputs": [],
   "source": [
    "# metro line to scrape\n",
    "line = 4\n",
    "\n",
    "# get the data in geojson format\n",
    "gdf = gpd.read_file('https://api.metro.net/LACMTA/vehicle_positions/route_code/'+str(line)+'?geojson=true')\n"
   ]
  },
  {
   "cell_type": "code",
   "execution_count": 7,
   "metadata": {},
   "outputs": [
    {
     "data": {
      "text/plain": [
       "<AxesSubplot: >"
      ]
     },
     "execution_count": 7,
     "metadata": {},
     "output_type": "execute_result"
    },
    {
     "data": {
      "image/png": "[encoded data removed]",
      "text/plain": [
       "<Figure size 640x480 with 1 Axes>"
      ]
     },
     "metadata": {},
     "output_type": "display_data"
    }
   ],
   "source": [
    "gdf.plot()"
   ]
  },
  {
   "attachments": {},
   "cell_type": "markdown",
   "metadata": {
    "slideshow": {
     "slide_type": "slide"
    }
   },
   "source": [
    "### Converting JSON to columns and converting unix timestamps\n",
    "Some of the data fields are in ```json``` format, or ```dictionaries``` if we were to use python lingo. We need to \"explode\" these into separate columns. For example, to explode the \"trip\" column:"
   ]
  },
  {
   "cell_type": "code",
   "execution_count": 8,
   "metadata": {},
   "outputs": [
    {
     "data": {
      "text/html": [
       "<div>\n",
       "<style scoped>\n",
       "    .dataframe tbody tr th:only-of-type {\n",
       "        vertical-align: middle;\n",
       "    }\n",
       "\n",
       "    .dataframe tbody tr th {\n",
       "        vertical-align: top;\n",
       "    }\n",
       "\n",
       "    .dataframe thead th {\n",
       "        text-align: right;\n",
       "    }\n",
       "</style>\n",
       "<table border=\"1\" class=\"dataframe\">\n",
       "  <thead>\n",
       "    <tr style=\"text-align: right;\">\n",
       "      <th></th>\n",
       "      <th>trip</th>\n",
       "      <th>vehicle</th>\n",
       "      <th>position</th>\n",
       "      <th>current_status</th>\n",
       "      <th>geometry</th>\n",
       "    </tr>\n",
       "  </thead>\n",
       "  <tbody>\n",
       "    <tr>\n",
       "      <th>0</th>\n",
       "      <td>{'trip_id': '70004003312716-DEC22', 'route_id'...</td>\n",
       "      <td>{'vehicle_id': '9502', 'vehicle_label': '9502'}</td>\n",
       "      <td>{'latitude': 34.064090728759766, 'longitude': ...</td>\n",
       "      <td>IN_TRANSIT_TO</td>\n",
       "      <td>POINT (-118.24813 34.06409)</td>\n",
       "    </tr>\n",
       "    <tr>\n",
       "      <th>1</th>\n",
       "      <td>{'trip_id': '10004003410406-DEC22', 'route_id'...</td>\n",
       "      <td>{'vehicle_id': '9525', 'vehicle_label': '9525'}</td>\n",
       "      <td>{'latitude': 34.05773162841797, 'longitude': -...</td>\n",
       "      <td>IN_TRANSIT_TO</td>\n",
       "      <td>POINT (-118.24138 34.05773)</td>\n",
       "    </tr>\n",
       "    <tr>\n",
       "      <th>2</th>\n",
       "      <td>{'trip_id': '70004003312748-DEC22', 'route_id'...</td>\n",
       "      <td>{'vehicle_id': '9583', 'vehicle_label': '9583'}</td>\n",
       "      <td>{'latitude': 34.07548522949219, 'longitude': -...</td>\n",
       "      <td>IN_TRANSIT_TO</td>\n",
       "      <td>POINT (-118.38973 34.07549)</td>\n",
       "    </tr>\n",
       "    <tr>\n",
       "      <th>3</th>\n",
       "      <td>{'trip_id': '70004003382737-DEC22', 'route_id'...</td>\n",
       "      <td>{'vehicle_id': '8718', 'vehicle_label': '8718'}</td>\n",
       "      <td>{'latitude': 34.090816497802734, 'longitude': ...</td>\n",
       "      <td>IN_TRANSIT_TO</td>\n",
       "      <td>POINT (-118.35161 34.09082)</td>\n",
       "    </tr>\n",
       "    <tr>\n",
       "      <th>4</th>\n",
       "      <td>{'trip_id': '70004003312818-DEC22', 'route_id'...</td>\n",
       "      <td>{'vehicle_id': '8723', 'vehicle_label': '8723'}</td>\n",
       "      <td>{'latitude': 34.01670455932617, 'longitude': -...</td>\n",
       "      <td>STOPPED_AT</td>\n",
       "      <td>POINT (-118.49478 34.01670)</td>\n",
       "    </tr>\n",
       "  </tbody>\n",
       "</table>\n",
       "</div>"
      ],
      "text/plain": [
       "                                                trip  \\\n",
       "0  {'trip_id': '70004003312716-DEC22', 'route_id'...   \n",
       "1  {'trip_id': '10004003410406-DEC22', 'route_id'...   \n",
       "2  {'trip_id': '70004003312748-DEC22', 'route_id'...   \n",
       "3  {'trip_id': '70004003382737-DEC22', 'route_id'...   \n",
       "4  {'trip_id': '70004003312818-DEC22', 'route_id'...   \n",
       "\n",
       "                                           vehicle  \\\n",
       "0  {'vehicle_id': '9502', 'vehicle_label': '9502'}   \n",
       "1  {'vehicle_id': '9525', 'vehicle_label': '9525'}   \n",
       "2  {'vehicle_id': '9583', 'vehicle_label': '9583'}   \n",
       "3  {'vehicle_id': '8718', 'vehicle_label': '8718'}   \n",
       "4  {'vehicle_id': '8723', 'vehicle_label': '8723'}   \n",
       "\n",
       "                                            position current_status  \\\n",
       "0  {'latitude': 34.064090728759766, 'longitude': ...  IN_TRANSIT_TO   \n",
       "1  {'latitude': 34.05773162841797, 'longitude': -...  IN_TRANSIT_TO   \n",
       "2  {'latitude': 34.07548522949219, 'longitude': -...  IN_TRANSIT_TO   \n",
       "3  {'latitude': 34.090816497802734, 'longitude': ...  IN_TRANSIT_TO   \n",
       "4  {'latitude': 34.01670455932617, 'longitude': -...     STOPPED_AT   \n",
       "\n",
       "                      geometry  \n",
       "0  POINT (-118.24813 34.06409)  \n",
       "1  POINT (-118.24138 34.05773)  \n",
       "2  POINT (-118.38973 34.07549)  \n",
       "3  POINT (-118.35161 34.09082)  \n",
       "4  POINT (-118.49478 34.01670)  "
      ]
     },
     "execution_count": 8,
     "metadata": {},
     "output_type": "execute_result"
    }
   ],
   "source": [
    "gdf.head()"
   ]
  },
  {
   "cell_type": "code",
   "execution_count": 9,
   "metadata": {},
   "outputs": [
    {
     "data": {
      "text/html": [
       "<div>\n",
       "<style scoped>\n",
       "    .dataframe tbody tr th:only-of-type {\n",
       "        vertical-align: middle;\n",
       "    }\n",
       "\n",
       "    .dataframe tbody tr th {\n",
       "        vertical-align: top;\n",
       "    }\n",
       "\n",
       "    .dataframe thead th {\n",
       "        text-align: right;\n",
       "    }\n",
       "</style>\n",
       "<table border=\"1\" class=\"dataframe\">\n",
       "  <thead>\n",
       "    <tr style=\"text-align: right;\">\n",
       "      <th></th>\n",
       "      <th>trip</th>\n",
       "      <th>vehicle</th>\n",
       "      <th>position</th>\n",
       "      <th>current_status</th>\n",
       "      <th>geometry</th>\n",
       "      <th>trip_id</th>\n",
       "      <th>route_id</th>\n",
       "      <th>trip_start_date</th>\n",
       "    </tr>\n",
       "  </thead>\n",
       "  <tbody>\n",
       "    <tr>\n",
       "      <th>0</th>\n",
       "      <td>{'trip_id': '70004003312716-DEC22', 'route_id'...</td>\n",
       "      <td>{'vehicle_id': '9502', 'vehicle_label': '9502'}</td>\n",
       "      <td>{'latitude': 34.064090728759766, 'longitude': ...</td>\n",
       "      <td>IN_TRANSIT_TO</td>\n",
       "      <td>POINT (-118.24813 34.06409)</td>\n",
       "      <td>70004003312716-DEC22</td>\n",
       "      <td>4-13167</td>\n",
       "      <td>20230313</td>\n",
       "    </tr>\n",
       "    <tr>\n",
       "      <th>1</th>\n",
       "      <td>{'trip_id': '10004003410406-DEC22', 'route_id'...</td>\n",
       "      <td>{'vehicle_id': '9525', 'vehicle_label': '9525'}</td>\n",
       "      <td>{'latitude': 34.05773162841797, 'longitude': -...</td>\n",
       "      <td>IN_TRANSIT_TO</td>\n",
       "      <td>POINT (-118.24138 34.05773)</td>\n",
       "      <td>10004003410406-DEC22</td>\n",
       "      <td>4-13167</td>\n",
       "      <td>20230313</td>\n",
       "    </tr>\n",
       "    <tr>\n",
       "      <th>2</th>\n",
       "      <td>{'trip_id': '70004003312748-DEC22', 'route_id'...</td>\n",
       "      <td>{'vehicle_id': '9583', 'vehicle_label': '9583'}</td>\n",
       "      <td>{'latitude': 34.07548522949219, 'longitude': -...</td>\n",
       "      <td>IN_TRANSIT_TO</td>\n",
       "      <td>POINT (-118.38973 34.07549)</td>\n",
       "      <td>70004003312748-DEC22</td>\n",
       "      <td>4-13167</td>\n",
       "      <td>20230313</td>\n",
       "    </tr>\n",
       "    <tr>\n",
       "      <th>3</th>\n",
       "      <td>{'trip_id': '70004003382737-DEC22', 'route_id'...</td>\n",
       "      <td>{'vehicle_id': '8718', 'vehicle_label': '8718'}</td>\n",
       "      <td>{'latitude': 34.090816497802734, 'longitude': ...</td>\n",
       "      <td>IN_TRANSIT_TO</td>\n",
       "      <td>POINT (-118.35161 34.09082)</td>\n",
       "      <td>70004003382737-DEC22</td>\n",
       "      <td>4-13167</td>\n",
       "      <td>20230313</td>\n",
       "    </tr>\n",
       "    <tr>\n",
       "      <th>4</th>\n",
       "      <td>{'trip_id': '70004003312818-DEC22', 'route_id'...</td>\n",
       "      <td>{'vehicle_id': '8723', 'vehicle_label': '8723'}</td>\n",
       "      <td>{'latitude': 34.01670455932617, 'longitude': -...</td>\n",
       "      <td>STOPPED_AT</td>\n",
       "      <td>POINT (-118.49478 34.01670)</td>\n",
       "      <td>70004003312818-DEC22</td>\n",
       "      <td>4-13167</td>\n",
       "      <td>20230313</td>\n",
       "    </tr>\n",
       "    <tr>\n",
       "      <th>5</th>\n",
       "      <td>{'trip_id': '10004003230437-DEC22', 'route_id'...</td>\n",
       "      <td>{'vehicle_id': '8809', 'vehicle_label': '8809'}</td>\n",
       "      <td>{'latitude': 34.04519271850586, 'longitude': -...</td>\n",
       "      <td>STOPPED_AT</td>\n",
       "      <td>POINT (-118.37679 34.04519)</td>\n",
       "      <td>10004003230437-DEC22</td>\n",
       "      <td>4-13167</td>\n",
       "      <td>20230313</td>\n",
       "    </tr>\n",
       "    <tr>\n",
       "      <th>6</th>\n",
       "      <td>{'trip_id': '70004003392704-DEC22', 'route_id'...</td>\n",
       "      <td>{'vehicle_id': '8800', 'vehicle_label': '8800'}</td>\n",
       "      <td>{'latitude': 34.04593276977539, 'longitude': -...</td>\n",
       "      <td>IN_TRANSIT_TO</td>\n",
       "      <td>POINT (-118.45071 34.04593)</td>\n",
       "      <td>70004003392704-DEC22</td>\n",
       "      <td>4-13167</td>\n",
       "      <td>20230313</td>\n",
       "    </tr>\n",
       "    <tr>\n",
       "      <th>7</th>\n",
       "      <td>{'trip_id': '10004003400433-DEC22', 'route_id'...</td>\n",
       "      <td>{'vehicle_id': '8834', 'vehicle_label': '8834'}</td>\n",
       "      <td>{'latitude': 34.03764343261719, 'longitude': -...</td>\n",
       "      <td>STOPPED_AT</td>\n",
       "      <td>POINT (-118.27297 34.03764)</td>\n",
       "      <td>10004003400433-DEC22</td>\n",
       "      <td>4-13167</td>\n",
       "      <td>20230313</td>\n",
       "    </tr>\n",
       "  </tbody>\n",
       "</table>\n",
       "</div>"
      ],
      "text/plain": [
       "                                                trip  \\\n",
       "0  {'trip_id': '70004003312716-DEC22', 'route_id'...   \n",
       "1  {'trip_id': '10004003410406-DEC22', 'route_id'...   \n",
       "2  {'trip_id': '70004003312748-DEC22', 'route_id'...   \n",
       "3  {'trip_id': '70004003382737-DEC22', 'route_id'...   \n",
       "4  {'trip_id': '70004003312818-DEC22', 'route_id'...   \n",
       "5  {'trip_id': '10004003230437-DEC22', 'route_id'...   \n",
       "6  {'trip_id': '70004003392704-DEC22', 'route_id'...   \n",
       "7  {'trip_id': '10004003400433-DEC22', 'route_id'...   \n",
       "\n",
       "                                           vehicle  \\\n",
       "0  {'vehicle_id': '9502', 'vehicle_label': '9502'}   \n",
       "1  {'vehicle_id': '9525', 'vehicle_label': '9525'}   \n",
       "2  {'vehicle_id': '9583', 'vehicle_label': '9583'}   \n",
       "3  {'vehicle_id': '8718', 'vehicle_label': '8718'}   \n",
       "4  {'vehicle_id': '8723', 'vehicle_label': '8723'}   \n",
       "5  {'vehicle_id': '8809', 'vehicle_label': '8809'}   \n",
       "6  {'vehicle_id': '8800', 'vehicle_label': '8800'}   \n",
       "7  {'vehicle_id': '8834', 'vehicle_label': '8834'}   \n",
       "\n",
       "                                            position current_status  \\\n",
       "0  {'latitude': 34.064090728759766, 'longitude': ...  IN_TRANSIT_TO   \n",
       "1  {'latitude': 34.05773162841797, 'longitude': -...  IN_TRANSIT_TO   \n",
       "2  {'latitude': 34.07548522949219, 'longitude': -...  IN_TRANSIT_TO   \n",
       "3  {'latitude': 34.090816497802734, 'longitude': ...  IN_TRANSIT_TO   \n",
       "4  {'latitude': 34.01670455932617, 'longitude': -...     STOPPED_AT   \n",
       "5  {'latitude': 34.04519271850586, 'longitude': -...     STOPPED_AT   \n",
       "6  {'latitude': 34.04593276977539, 'longitude': -...  IN_TRANSIT_TO   \n",
       "7  {'latitude': 34.03764343261719, 'longitude': -...     STOPPED_AT   \n",
       "\n",
       "                      geometry               trip_id route_id trip_start_date  \n",
       "0  POINT (-118.24813 34.06409)  70004003312716-DEC22  4-13167        20230313  \n",
       "1  POINT (-118.24138 34.05773)  10004003410406-DEC22  4-13167        20230313  \n",
       "2  POINT (-118.38973 34.07549)  70004003312748-DEC22  4-13167        20230313  \n",
       "3  POINT (-118.35161 34.09082)  70004003382737-DEC22  4-13167        20230313  \n",
       "4  POINT (-118.49478 34.01670)  70004003312818-DEC22  4-13167        20230313  \n",
       "5  POINT (-118.37679 34.04519)  10004003230437-DEC22  4-13167        20230313  \n",
       "6  POINT (-118.45071 34.04593)  70004003392704-DEC22  4-13167        20230313  \n",
       "7  POINT (-118.27297 34.03764)  10004003400433-DEC22  4-13167        20230313  "
      ]
     },
     "execution_count": 9,
     "metadata": {},
     "output_type": "execute_result"
    }
   ],
   "source": [
    "# \"explode\" trip json data in trip column to separate columns\n",
    "gdf = pd.concat([gdf, gdf[\"trip\"].apply(pd.Series)], axis=1)\n",
    "gdf"
   ]
  },
  {
   "attachments": {},
   "cell_type": "markdown",
   "metadata": {},
   "source": [
    "Now, repeat for ```vehicle``` and ```position``` columns:"
   ]
  },
  {
   "cell_type": "code",
   "execution_count": 10,
   "metadata": {},
   "outputs": [
    {
     "data": {
      "text/html": [
       "<div>\n",
       "<style scoped>\n",
       "    .dataframe tbody tr th:only-of-type {\n",
       "        vertical-align: middle;\n",
       "    }\n",
       "\n",
       "    .dataframe tbody tr th {\n",
       "        vertical-align: top;\n",
       "    }\n",
       "\n",
       "    .dataframe thead th {\n",
       "        text-align: right;\n",
       "    }\n",
       "</style>\n",
       "<table border=\"1\" class=\"dataframe\">\n",
       "  <thead>\n",
       "    <tr style=\"text-align: right;\">\n",
       "      <th></th>\n",
       "      <th>trip</th>\n",
       "      <th>vehicle</th>\n",
       "      <th>position</th>\n",
       "      <th>current_status</th>\n",
       "      <th>geometry</th>\n",
       "      <th>trip_id</th>\n",
       "      <th>route_id</th>\n",
       "      <th>trip_start_date</th>\n",
       "      <th>vehicle_id</th>\n",
       "      <th>vehicle_label</th>\n",
       "      <th>latitude</th>\n",
       "      <th>longitude</th>\n",
       "      <th>bearing</th>\n",
       "      <th>timestamp</th>\n",
       "      <th>speed</th>\n",
       "    </tr>\n",
       "  </thead>\n",
       "  <tbody>\n",
       "    <tr>\n",
       "      <th>0</th>\n",
       "      <td>{'trip_id': '70004003312716-DEC22', 'route_id'...</td>\n",
       "      <td>{'vehicle_id': '9502', 'vehicle_label': '9502'}</td>\n",
       "      <td>{'latitude': 34.064090728759766, 'longitude': ...</td>\n",
       "      <td>IN_TRANSIT_TO</td>\n",
       "      <td>POINT (-118.24813 34.06409)</td>\n",
       "      <td>70004003312716-DEC22</td>\n",
       "      <td>4-13167</td>\n",
       "      <td>20230313</td>\n",
       "      <td>9502</td>\n",
       "      <td>9502</td>\n",
       "      <td>34.064091</td>\n",
       "      <td>-118.248131</td>\n",
       "      <td>135.498047</td>\n",
       "      <td>1.678706e+09</td>\n",
       "      <td>17.702784</td>\n",
       "    </tr>\n",
       "    <tr>\n",
       "      <th>1</th>\n",
       "      <td>{'trip_id': '10004003410406-DEC22', 'route_id'...</td>\n",
       "      <td>{'vehicle_id': '9525', 'vehicle_label': '9525'}</td>\n",
       "      <td>{'latitude': 34.05773162841797, 'longitude': -...</td>\n",
       "      <td>IN_TRANSIT_TO</td>\n",
       "      <td>POINT (-118.24138 34.05773)</td>\n",
       "      <td>10004003410406-DEC22</td>\n",
       "      <td>4-13167</td>\n",
       "      <td>20230313</td>\n",
       "      <td>9525</td>\n",
       "      <td>9525</td>\n",
       "      <td>34.057732</td>\n",
       "      <td>-118.241379</td>\n",
       "      <td>58.803864</td>\n",
       "      <td>1.678706e+09</td>\n",
       "      <td>13.411200</td>\n",
       "    </tr>\n",
       "    <tr>\n",
       "      <th>2</th>\n",
       "      <td>{'trip_id': '70004003312748-DEC22', 'route_id'...</td>\n",
       "      <td>{'vehicle_id': '9583', 'vehicle_label': '9583'}</td>\n",
       "      <td>{'latitude': 34.07548522949219, 'longitude': -...</td>\n",
       "      <td>IN_TRANSIT_TO</td>\n",
       "      <td>POINT (-118.38973 34.07549)</td>\n",
       "      <td>70004003312748-DEC22</td>\n",
       "      <td>4-13167</td>\n",
       "      <td>20230313</td>\n",
       "      <td>9583</td>\n",
       "      <td>9583</td>\n",
       "      <td>34.075485</td>\n",
       "      <td>-118.389732</td>\n",
       "      <td>50.253380</td>\n",
       "      <td>1.678706e+09</td>\n",
       "      <td>8.404351</td>\n",
       "    </tr>\n",
       "    <tr>\n",
       "      <th>3</th>\n",
       "      <td>{'trip_id': '70004003382737-DEC22', 'route_id'...</td>\n",
       "      <td>{'vehicle_id': '8718', 'vehicle_label': '8718'}</td>\n",
       "      <td>{'latitude': 34.090816497802734, 'longitude': ...</td>\n",
       "      <td>IN_TRANSIT_TO</td>\n",
       "      <td>POINT (-118.35161 34.09082)</td>\n",
       "      <td>70004003382737-DEC22</td>\n",
       "      <td>4-13167</td>\n",
       "      <td>20230313</td>\n",
       "      <td>8718</td>\n",
       "      <td>8718</td>\n",
       "      <td>34.090816</td>\n",
       "      <td>-118.351608</td>\n",
       "      <td>270.399628</td>\n",
       "      <td>1.678706e+09</td>\n",
       "      <td>12.070080</td>\n",
       "    </tr>\n",
       "    <tr>\n",
       "      <th>4</th>\n",
       "      <td>{'trip_id': '70004003312818-DEC22', 'route_id'...</td>\n",
       "      <td>{'vehicle_id': '8723', 'vehicle_label': '8723'}</td>\n",
       "      <td>{'latitude': 34.01670455932617, 'longitude': -...</td>\n",
       "      <td>STOPPED_AT</td>\n",
       "      <td>POINT (-118.49478 34.01670)</td>\n",
       "      <td>70004003312818-DEC22</td>\n",
       "      <td>4-13167</td>\n",
       "      <td>20230313</td>\n",
       "      <td>8723</td>\n",
       "      <td>8723</td>\n",
       "      <td>34.016705</td>\n",
       "      <td>-118.494781</td>\n",
       "      <td>46.463627</td>\n",
       "      <td>1.678706e+09</td>\n",
       "      <td>0.044704</td>\n",
       "    </tr>\n",
       "    <tr>\n",
       "      <th>5</th>\n",
       "      <td>{'trip_id': '10004003230437-DEC22', 'route_id'...</td>\n",
       "      <td>{'vehicle_id': '8809', 'vehicle_label': '8809'}</td>\n",
       "      <td>{'latitude': 34.04519271850586, 'longitude': -...</td>\n",
       "      <td>STOPPED_AT</td>\n",
       "      <td>POINT (-118.37679 34.04519)</td>\n",
       "      <td>10004003230437-DEC22</td>\n",
       "      <td>4-13167</td>\n",
       "      <td>20230313</td>\n",
       "      <td>8809</td>\n",
       "      <td>8809</td>\n",
       "      <td>34.045193</td>\n",
       "      <td>-118.376785</td>\n",
       "      <td>180.000000</td>\n",
       "      <td>1.678706e+09</td>\n",
       "      <td>2.682240</td>\n",
       "    </tr>\n",
       "    <tr>\n",
       "      <th>6</th>\n",
       "      <td>{'trip_id': '70004003392704-DEC22', 'route_id'...</td>\n",
       "      <td>{'vehicle_id': '8800', 'vehicle_label': '8800'}</td>\n",
       "      <td>{'latitude': 34.04593276977539, 'longitude': -...</td>\n",
       "      <td>IN_TRANSIT_TO</td>\n",
       "      <td>POINT (-118.45071 34.04593)</td>\n",
       "      <td>70004003392704-DEC22</td>\n",
       "      <td>4-13167</td>\n",
       "      <td>20230313</td>\n",
       "      <td>8800</td>\n",
       "      <td>8800</td>\n",
       "      <td>34.045933</td>\n",
       "      <td>-118.450714</td>\n",
       "      <td>251.884689</td>\n",
       "      <td>1.678706e+09</td>\n",
       "      <td>3.621024</td>\n",
       "    </tr>\n",
       "    <tr>\n",
       "      <th>7</th>\n",
       "      <td>{'trip_id': '10004003400433-DEC22', 'route_id'...</td>\n",
       "      <td>{'vehicle_id': '8834', 'vehicle_label': '8834'}</td>\n",
       "      <td>{'latitude': 34.03764343261719, 'longitude': -...</td>\n",
       "      <td>STOPPED_AT</td>\n",
       "      <td>POINT (-118.27297 34.03764)</td>\n",
       "      <td>10004003400433-DEC22</td>\n",
       "      <td>4-13167</td>\n",
       "      <td>20230313</td>\n",
       "      <td>8834</td>\n",
       "      <td>8834</td>\n",
       "      <td>34.037643</td>\n",
       "      <td>-118.272972</td>\n",
       "      <td>109.000000</td>\n",
       "      <td>1.678706e+09</td>\n",
       "      <td>21.636736</td>\n",
       "    </tr>\n",
       "  </tbody>\n",
       "</table>\n",
       "</div>"
      ],
      "text/plain": [
       "                                                trip  \\\n",
       "0  {'trip_id': '70004003312716-DEC22', 'route_id'...   \n",
       "1  {'trip_id': '10004003410406-DEC22', 'route_id'...   \n",
       "2  {'trip_id': '70004003312748-DEC22', 'route_id'...   \n",
       "3  {'trip_id': '70004003382737-DEC22', 'route_id'...   \n",
       "4  {'trip_id': '70004003312818-DEC22', 'route_id'...   \n",
       "5  {'trip_id': '10004003230437-DEC22', 'route_id'...   \n",
       "6  {'trip_id': '70004003392704-DEC22', 'route_id'...   \n",
       "7  {'trip_id': '10004003400433-DEC22', 'route_id'...   \n",
       "\n",
       "                                           vehicle  \\\n",
       "0  {'vehicle_id': '9502', 'vehicle_label': '9502'}   \n",
       "1  {'vehicle_id': '9525', 'vehicle_label': '9525'}   \n",
       "2  {'vehicle_id': '9583', 'vehicle_label': '9583'}   \n",
       "3  {'vehicle_id': '8718', 'vehicle_label': '8718'}   \n",
       "4  {'vehicle_id': '8723', 'vehicle_label': '8723'}   \n",
       "5  {'vehicle_id': '8809', 'vehicle_label': '8809'}   \n",
       "6  {'vehicle_id': '8800', 'vehicle_label': '8800'}   \n",
       "7  {'vehicle_id': '8834', 'vehicle_label': '8834'}   \n",
       "\n",
       "                                            position current_status  \\\n",
       "0  {'latitude': 34.064090728759766, 'longitude': ...  IN_TRANSIT_TO   \n",
       "1  {'latitude': 34.05773162841797, 'longitude': -...  IN_TRANSIT_TO   \n",
       "2  {'latitude': 34.07548522949219, 'longitude': -...  IN_TRANSIT_TO   \n",
       "3  {'latitude': 34.090816497802734, 'longitude': ...  IN_TRANSIT_TO   \n",
       "4  {'latitude': 34.01670455932617, 'longitude': -...     STOPPED_AT   \n",
       "5  {'latitude': 34.04519271850586, 'longitude': -...     STOPPED_AT   \n",
       "6  {'latitude': 34.04593276977539, 'longitude': -...  IN_TRANSIT_TO   \n",
       "7  {'latitude': 34.03764343261719, 'longitude': -...     STOPPED_AT   \n",
       "\n",
       "                      geometry               trip_id route_id trip_start_date  \\\n",
       "0  POINT (-118.24813 34.06409)  70004003312716-DEC22  4-13167        20230313   \n",
       "1  POINT (-118.24138 34.05773)  10004003410406-DEC22  4-13167        20230313   \n",
       "2  POINT (-118.38973 34.07549)  70004003312748-DEC22  4-13167        20230313   \n",
       "3  POINT (-118.35161 34.09082)  70004003382737-DEC22  4-13167        20230313   \n",
       "4  POINT (-118.49478 34.01670)  70004003312818-DEC22  4-13167        20230313   \n",
       "5  POINT (-118.37679 34.04519)  10004003230437-DEC22  4-13167        20230313   \n",
       "6  POINT (-118.45071 34.04593)  70004003392704-DEC22  4-13167        20230313   \n",
       "7  POINT (-118.27297 34.03764)  10004003400433-DEC22  4-13167        20230313   \n",
       "\n",
       "  vehicle_id vehicle_label   latitude   longitude     bearing     timestamp  \\\n",
       "0       9502          9502  34.064091 -118.248131  135.498047  1.678706e+09   \n",
       "1       9525          9525  34.057732 -118.241379   58.803864  1.678706e+09   \n",
       "2       9583          9583  34.075485 -118.389732   50.253380  1.678706e+09   \n",
       "3       8718          8718  34.090816 -118.351608  270.399628  1.678706e+09   \n",
       "4       8723          8723  34.016705 -118.494781   46.463627  1.678706e+09   \n",
       "5       8809          8809  34.045193 -118.376785  180.000000  1.678706e+09   \n",
       "6       8800          8800  34.045933 -118.450714  251.884689  1.678706e+09   \n",
       "7       8834          8834  34.037643 -118.272972  109.000000  1.678706e+09   \n",
       "\n",
       "       speed  \n",
       "0  17.702784  \n",
       "1  13.411200  \n",
       "2   8.404351  \n",
       "3  12.070080  \n",
       "4   0.044704  \n",
       "5   2.682240  \n",
       "6   3.621024  \n",
       "7  21.636736  "
      ]
     },
     "execution_count": 10,
     "metadata": {},
     "output_type": "execute_result"
    }
   ],
   "source": [
    "gdf = pd.concat([gdf, gdf[\"vehicle\"].apply(pd.Series)], axis=1)\n",
    "gdf = pd.concat([gdf, gdf[\"position\"].apply(pd.Series)], axis=1)\n",
    "gdf"
   ]
  },
  {
   "cell_type": "code",
   "execution_count": 11,
   "metadata": {},
   "outputs": [
    {
     "data": {
      "text/html": [
       "<div>\n",
       "<style scoped>\n",
       "    .dataframe tbody tr th:only-of-type {\n",
       "        vertical-align: middle;\n",
       "    }\n",
       "\n",
       "    .dataframe tbody tr th {\n",
       "        vertical-align: top;\n",
       "    }\n",
       "\n",
       "    .dataframe thead th {\n",
       "        text-align: right;\n",
       "    }\n",
       "</style>\n",
       "<table border=\"1\" class=\"dataframe\">\n",
       "  <thead>\n",
       "    <tr style=\"text-align: right;\">\n",
       "      <th></th>\n",
       "      <th>current_status</th>\n",
       "      <th>geometry</th>\n",
       "      <th>route_id</th>\n",
       "      <th>vehicle_id</th>\n",
       "      <th>latitude</th>\n",
       "      <th>longitude</th>\n",
       "      <th>bearing</th>\n",
       "      <th>timestamp</th>\n",
       "      <th>speed</th>\n",
       "    </tr>\n",
       "  </thead>\n",
       "  <tbody>\n",
       "    <tr>\n",
       "      <th>0</th>\n",
       "      <td>IN_TRANSIT_TO</td>\n",
       "      <td>POINT (-118.24813 34.06409)</td>\n",
       "      <td>4-13167</td>\n",
       "      <td>9502</td>\n",
       "      <td>34.064091</td>\n",
       "      <td>-118.248131</td>\n",
       "      <td>135.498047</td>\n",
       "      <td>1.678706e+09</td>\n",
       "      <td>17.702784</td>\n",
       "    </tr>\n",
       "    <tr>\n",
       "      <th>1</th>\n",
       "      <td>IN_TRANSIT_TO</td>\n",
       "      <td>POINT (-118.24138 34.05773)</td>\n",
       "      <td>4-13167</td>\n",
       "      <td>9525</td>\n",
       "      <td>34.057732</td>\n",
       "      <td>-118.241379</td>\n",
       "      <td>58.803864</td>\n",
       "      <td>1.678706e+09</td>\n",
       "      <td>13.411200</td>\n",
       "    </tr>\n",
       "    <tr>\n",
       "      <th>2</th>\n",
       "      <td>IN_TRANSIT_TO</td>\n",
       "      <td>POINT (-118.38973 34.07549)</td>\n",
       "      <td>4-13167</td>\n",
       "      <td>9583</td>\n",
       "      <td>34.075485</td>\n",
       "      <td>-118.389732</td>\n",
       "      <td>50.253380</td>\n",
       "      <td>1.678706e+09</td>\n",
       "      <td>8.404351</td>\n",
       "    </tr>\n",
       "    <tr>\n",
       "      <th>3</th>\n",
       "      <td>IN_TRANSIT_TO</td>\n",
       "      <td>POINT (-118.35161 34.09082)</td>\n",
       "      <td>4-13167</td>\n",
       "      <td>8718</td>\n",
       "      <td>34.090816</td>\n",
       "      <td>-118.351608</td>\n",
       "      <td>270.399628</td>\n",
       "      <td>1.678706e+09</td>\n",
       "      <td>12.070080</td>\n",
       "    </tr>\n",
       "    <tr>\n",
       "      <th>4</th>\n",
       "      <td>STOPPED_AT</td>\n",
       "      <td>POINT (-118.49478 34.01670)</td>\n",
       "      <td>4-13167</td>\n",
       "      <td>8723</td>\n",
       "      <td>34.016705</td>\n",
       "      <td>-118.494781</td>\n",
       "      <td>46.463627</td>\n",
       "      <td>1.678706e+09</td>\n",
       "      <td>0.044704</td>\n",
       "    </tr>\n",
       "    <tr>\n",
       "      <th>5</th>\n",
       "      <td>STOPPED_AT</td>\n",
       "      <td>POINT (-118.37679 34.04519)</td>\n",
       "      <td>4-13167</td>\n",
       "      <td>8809</td>\n",
       "      <td>34.045193</td>\n",
       "      <td>-118.376785</td>\n",
       "      <td>180.000000</td>\n",
       "      <td>1.678706e+09</td>\n",
       "      <td>2.682240</td>\n",
       "    </tr>\n",
       "    <tr>\n",
       "      <th>6</th>\n",
       "      <td>IN_TRANSIT_TO</td>\n",
       "      <td>POINT (-118.45071 34.04593)</td>\n",
       "      <td>4-13167</td>\n",
       "      <td>8800</td>\n",
       "      <td>34.045933</td>\n",
       "      <td>-118.450714</td>\n",
       "      <td>251.884689</td>\n",
       "      <td>1.678706e+09</td>\n",
       "      <td>3.621024</td>\n",
       "    </tr>\n",
       "    <tr>\n",
       "      <th>7</th>\n",
       "      <td>STOPPED_AT</td>\n",
       "      <td>POINT (-118.27297 34.03764)</td>\n",
       "      <td>4-13167</td>\n",
       "      <td>8834</td>\n",
       "      <td>34.037643</td>\n",
       "      <td>-118.272972</td>\n",
       "      <td>109.000000</td>\n",
       "      <td>1.678706e+09</td>\n",
       "      <td>21.636736</td>\n",
       "    </tr>\n",
       "  </tbody>\n",
       "</table>\n",
       "</div>"
      ],
      "text/plain": [
       "  current_status                     geometry route_id vehicle_id   latitude  \\\n",
       "0  IN_TRANSIT_TO  POINT (-118.24813 34.06409)  4-13167       9502  34.064091   \n",
       "1  IN_TRANSIT_TO  POINT (-118.24138 34.05773)  4-13167       9525  34.057732   \n",
       "2  IN_TRANSIT_TO  POINT (-118.38973 34.07549)  4-13167       9583  34.075485   \n",
       "3  IN_TRANSIT_TO  POINT (-118.35161 34.09082)  4-13167       8718  34.090816   \n",
       "4     STOPPED_AT  POINT (-118.49478 34.01670)  4-13167       8723  34.016705   \n",
       "5     STOPPED_AT  POINT (-118.37679 34.04519)  4-13167       8809  34.045193   \n",
       "6  IN_TRANSIT_TO  POINT (-118.45071 34.04593)  4-13167       8800  34.045933   \n",
       "7     STOPPED_AT  POINT (-118.27297 34.03764)  4-13167       8834  34.037643   \n",
       "\n",
       "    longitude     bearing     timestamp      speed  \n",
       "0 -118.248131  135.498047  1.678706e+09  17.702784  \n",
       "1 -118.241379   58.803864  1.678706e+09  13.411200  \n",
       "2 -118.389732   50.253380  1.678706e+09   8.404351  \n",
       "3 -118.351608  270.399628  1.678706e+09  12.070080  \n",
       "4 -118.494781   46.463627  1.678706e+09   0.044704  \n",
       "5 -118.376785  180.000000  1.678706e+09   2.682240  \n",
       "6 -118.450714  251.884689  1.678706e+09   3.621024  \n",
       "7 -118.272972  109.000000  1.678706e+09  21.636736  "
      ]
     },
     "execution_count": 11,
     "metadata": {},
     "output_type": "execute_result"
    }
   ],
   "source": [
    "# drop unncessary columns\n",
    "gdf = gdf.drop(columns=['trip','vehicle','position','trip_id','trip_start_date','vehicle_label'])\n",
    "gdf"
   ]
  },
  {
   "attachments": {},
   "cell_type": "markdown",
   "metadata": {},
   "source": [
    "### Converting timestamps\n",
    "\n",
    "Whoa, what's up with the timestamp column? Does anybody recognize this time format?"
   ]
  },
  {
   "cell_type": "code",
   "execution_count": 12,
   "metadata": {},
   "outputs": [
    {
     "data": {
      "text/plain": [
       "0    1.678706e+09\n",
       "1    1.678706e+09\n",
       "2    1.678706e+09\n",
       "3    1.678706e+09\n",
       "4    1.678706e+09\n",
       "5    1.678706e+09\n",
       "6    1.678706e+09\n",
       "7    1.678706e+09\n",
       "Name: timestamp, dtype: float64"
      ]
     },
     "execution_count": 12,
     "metadata": {},
     "output_type": "execute_result"
    }
   ],
   "source": [
    "gdf['timestamp']"
   ]
  },
  {
   "cell_type": "code",
   "execution_count": 13,
   "metadata": {
    "slideshow": {
     "slide_type": "fragment"
    }
   },
   "outputs": [
    {
     "data": {
      "text/html": [
       "<div>\n",
       "<style scoped>\n",
       "    .dataframe tbody tr th:only-of-type {\n",
       "        vertical-align: middle;\n",
       "    }\n",
       "\n",
       "    .dataframe tbody tr th {\n",
       "        vertical-align: top;\n",
       "    }\n",
       "\n",
       "    .dataframe thead th {\n",
       "        text-align: right;\n",
       "    }\n",
       "</style>\n",
       "<table border=\"1\" class=\"dataframe\">\n",
       "  <thead>\n",
       "    <tr style=\"text-align: right;\">\n",
       "      <th></th>\n",
       "      <th>current_status</th>\n",
       "      <th>geometry</th>\n",
       "      <th>route_id</th>\n",
       "      <th>vehicle_id</th>\n",
       "      <th>latitude</th>\n",
       "      <th>longitude</th>\n",
       "      <th>bearing</th>\n",
       "      <th>timestamp</th>\n",
       "      <th>speed</th>\n",
       "      <th>time</th>\n",
       "    </tr>\n",
       "  </thead>\n",
       "  <tbody>\n",
       "    <tr>\n",
       "      <th>0</th>\n",
       "      <td>IN_TRANSIT_TO</td>\n",
       "      <td>POINT (-118.24813 34.06409)</td>\n",
       "      <td>4-13167</td>\n",
       "      <td>9502</td>\n",
       "      <td>34.064091</td>\n",
       "      <td>-118.248131</td>\n",
       "      <td>135.498047</td>\n",
       "      <td>1.678706e+09</td>\n",
       "      <td>17.702784</td>\n",
       "      <td>2023-03-13 11:20:27</td>\n",
       "    </tr>\n",
       "    <tr>\n",
       "      <th>1</th>\n",
       "      <td>IN_TRANSIT_TO</td>\n",
       "      <td>POINT (-118.24138 34.05773)</td>\n",
       "      <td>4-13167</td>\n",
       "      <td>9525</td>\n",
       "      <td>34.057732</td>\n",
       "      <td>-118.241379</td>\n",
       "      <td>58.803864</td>\n",
       "      <td>1.678706e+09</td>\n",
       "      <td>13.411200</td>\n",
       "      <td>2023-03-13 11:18:46</td>\n",
       "    </tr>\n",
       "    <tr>\n",
       "      <th>2</th>\n",
       "      <td>IN_TRANSIT_TO</td>\n",
       "      <td>POINT (-118.38973 34.07549)</td>\n",
       "      <td>4-13167</td>\n",
       "      <td>9583</td>\n",
       "      <td>34.075485</td>\n",
       "      <td>-118.389732</td>\n",
       "      <td>50.253380</td>\n",
       "      <td>1.678706e+09</td>\n",
       "      <td>8.404351</td>\n",
       "      <td>2023-03-13 11:20:28</td>\n",
       "    </tr>\n",
       "    <tr>\n",
       "      <th>3</th>\n",
       "      <td>IN_TRANSIT_TO</td>\n",
       "      <td>POINT (-118.35161 34.09082)</td>\n",
       "      <td>4-13167</td>\n",
       "      <td>8718</td>\n",
       "      <td>34.090816</td>\n",
       "      <td>-118.351608</td>\n",
       "      <td>270.399628</td>\n",
       "      <td>1.678706e+09</td>\n",
       "      <td>12.070080</td>\n",
       "      <td>2023-03-13 11:19:33</td>\n",
       "    </tr>\n",
       "    <tr>\n",
       "      <th>4</th>\n",
       "      <td>STOPPED_AT</td>\n",
       "      <td>POINT (-118.49478 34.01670)</td>\n",
       "      <td>4-13167</td>\n",
       "      <td>8723</td>\n",
       "      <td>34.016705</td>\n",
       "      <td>-118.494781</td>\n",
       "      <td>46.463627</td>\n",
       "      <td>1.678706e+09</td>\n",
       "      <td>0.044704</td>\n",
       "      <td>2023-03-13 11:20:29</td>\n",
       "    </tr>\n",
       "    <tr>\n",
       "      <th>5</th>\n",
       "      <td>STOPPED_AT</td>\n",
       "      <td>POINT (-118.37679 34.04519)</td>\n",
       "      <td>4-13167</td>\n",
       "      <td>8809</td>\n",
       "      <td>34.045193</td>\n",
       "      <td>-118.376785</td>\n",
       "      <td>180.000000</td>\n",
       "      <td>1.678706e+09</td>\n",
       "      <td>2.682240</td>\n",
       "      <td>2023-03-13 11:18:06</td>\n",
       "    </tr>\n",
       "    <tr>\n",
       "      <th>6</th>\n",
       "      <td>IN_TRANSIT_TO</td>\n",
       "      <td>POINT (-118.45071 34.04593)</td>\n",
       "      <td>4-13167</td>\n",
       "      <td>8800</td>\n",
       "      <td>34.045933</td>\n",
       "      <td>-118.450714</td>\n",
       "      <td>251.884689</td>\n",
       "      <td>1.678706e+09</td>\n",
       "      <td>3.621024</td>\n",
       "      <td>2023-03-13 11:20:30</td>\n",
       "    </tr>\n",
       "    <tr>\n",
       "      <th>7</th>\n",
       "      <td>STOPPED_AT</td>\n",
       "      <td>POINT (-118.27297 34.03764)</td>\n",
       "      <td>4-13167</td>\n",
       "      <td>8834</td>\n",
       "      <td>34.037643</td>\n",
       "      <td>-118.272972</td>\n",
       "      <td>109.000000</td>\n",
       "      <td>1.678706e+09</td>\n",
       "      <td>21.636736</td>\n",
       "      <td>2023-03-13 11:20:26</td>\n",
       "    </tr>\n",
       "  </tbody>\n",
       "</table>\n",
       "</div>"
      ],
      "text/plain": [
       "  current_status                     geometry route_id vehicle_id   latitude  \\\n",
       "0  IN_TRANSIT_TO  POINT (-118.24813 34.06409)  4-13167       9502  34.064091   \n",
       "1  IN_TRANSIT_TO  POINT (-118.24138 34.05773)  4-13167       9525  34.057732   \n",
       "2  IN_TRANSIT_TO  POINT (-118.38973 34.07549)  4-13167       9583  34.075485   \n",
       "3  IN_TRANSIT_TO  POINT (-118.35161 34.09082)  4-13167       8718  34.090816   \n",
       "4     STOPPED_AT  POINT (-118.49478 34.01670)  4-13167       8723  34.016705   \n",
       "5     STOPPED_AT  POINT (-118.37679 34.04519)  4-13167       8809  34.045193   \n",
       "6  IN_TRANSIT_TO  POINT (-118.45071 34.04593)  4-13167       8800  34.045933   \n",
       "7     STOPPED_AT  POINT (-118.27297 34.03764)  4-13167       8834  34.037643   \n",
       "\n",
       "    longitude     bearing     timestamp      speed                time  \n",
       "0 -118.248131  135.498047  1.678706e+09  17.702784 2023-03-13 11:20:27  \n",
       "1 -118.241379   58.803864  1.678706e+09  13.411200 2023-03-13 11:18:46  \n",
       "2 -118.389732   50.253380  1.678706e+09   8.404351 2023-03-13 11:20:28  \n",
       "3 -118.351608  270.399628  1.678706e+09  12.070080 2023-03-13 11:19:33  \n",
       "4 -118.494781   46.463627  1.678706e+09   0.044704 2023-03-13 11:20:29  \n",
       "5 -118.376785  180.000000  1.678706e+09   2.682240 2023-03-13 11:18:06  \n",
       "6 -118.450714  251.884689  1.678706e+09   3.621024 2023-03-13 11:20:30  \n",
       "7 -118.272972  109.000000  1.678706e+09  21.636736 2023-03-13 11:20:26  "
      ]
     },
     "execution_count": 13,
     "metadata": {},
     "output_type": "execute_result"
    }
   ],
   "source": [
    "# convert unix timestamp to human readable time\n",
    "gdf['time'] = pd.to_datetime(gdf['timestamp'],unit='s')\n",
    "gdf"
   ]
  },
  {
   "cell_type": "code",
   "execution_count": 14,
   "metadata": {},
   "outputs": [
    {
     "data": {
      "text/html": [
       "<div>\n",
       "<style scoped>\n",
       "    .dataframe tbody tr th:only-of-type {\n",
       "        vertical-align: middle;\n",
       "    }\n",
       "\n",
       "    .dataframe tbody tr th {\n",
       "        vertical-align: top;\n",
       "    }\n",
       "\n",
       "    .dataframe thead th {\n",
       "        text-align: right;\n",
       "    }\n",
       "</style>\n",
       "<table border=\"1\" class=\"dataframe\">\n",
       "  <thead>\n",
       "    <tr style=\"text-align: right;\">\n",
       "      <th></th>\n",
       "      <th>current_status</th>\n",
       "      <th>geometry</th>\n",
       "      <th>route_id</th>\n",
       "      <th>vehicle_id</th>\n",
       "      <th>latitude</th>\n",
       "      <th>longitude</th>\n",
       "      <th>bearing</th>\n",
       "      <th>timestamp</th>\n",
       "      <th>speed</th>\n",
       "      <th>time</th>\n",
       "    </tr>\n",
       "  </thead>\n",
       "  <tbody>\n",
       "    <tr>\n",
       "      <th>0</th>\n",
       "      <td>IN_TRANSIT_TO</td>\n",
       "      <td>POINT (-118.24813 34.06409)</td>\n",
       "      <td>4-13167</td>\n",
       "      <td>9502</td>\n",
       "      <td>34.064091</td>\n",
       "      <td>-118.248131</td>\n",
       "      <td>135.498047</td>\n",
       "      <td>1.678706e+09</td>\n",
       "      <td>17.702784</td>\n",
       "      <td>2023-03-13 04:20:27-07:00</td>\n",
       "    </tr>\n",
       "    <tr>\n",
       "      <th>1</th>\n",
       "      <td>IN_TRANSIT_TO</td>\n",
       "      <td>POINT (-118.24138 34.05773)</td>\n",
       "      <td>4-13167</td>\n",
       "      <td>9525</td>\n",
       "      <td>34.057732</td>\n",
       "      <td>-118.241379</td>\n",
       "      <td>58.803864</td>\n",
       "      <td>1.678706e+09</td>\n",
       "      <td>13.411200</td>\n",
       "      <td>2023-03-13 04:18:46-07:00</td>\n",
       "    </tr>\n",
       "    <tr>\n",
       "      <th>2</th>\n",
       "      <td>IN_TRANSIT_TO</td>\n",
       "      <td>POINT (-118.38973 34.07549)</td>\n",
       "      <td>4-13167</td>\n",
       "      <td>9583</td>\n",
       "      <td>34.075485</td>\n",
       "      <td>-118.389732</td>\n",
       "      <td>50.253380</td>\n",
       "      <td>1.678706e+09</td>\n",
       "      <td>8.404351</td>\n",
       "      <td>2023-03-13 04:20:28-07:00</td>\n",
       "    </tr>\n",
       "    <tr>\n",
       "      <th>3</th>\n",
       "      <td>IN_TRANSIT_TO</td>\n",
       "      <td>POINT (-118.35161 34.09082)</td>\n",
       "      <td>4-13167</td>\n",
       "      <td>8718</td>\n",
       "      <td>34.090816</td>\n",
       "      <td>-118.351608</td>\n",
       "      <td>270.399628</td>\n",
       "      <td>1.678706e+09</td>\n",
       "      <td>12.070080</td>\n",
       "      <td>2023-03-13 04:19:33-07:00</td>\n",
       "    </tr>\n",
       "    <tr>\n",
       "      <th>4</th>\n",
       "      <td>STOPPED_AT</td>\n",
       "      <td>POINT (-118.49478 34.01670)</td>\n",
       "      <td>4-13167</td>\n",
       "      <td>8723</td>\n",
       "      <td>34.016705</td>\n",
       "      <td>-118.494781</td>\n",
       "      <td>46.463627</td>\n",
       "      <td>1.678706e+09</td>\n",
       "      <td>0.044704</td>\n",
       "      <td>2023-03-13 04:20:29-07:00</td>\n",
       "    </tr>\n",
       "  </tbody>\n",
       "</table>\n",
       "</div>"
      ],
      "text/plain": [
       "  current_status                     geometry route_id vehicle_id   latitude  \\\n",
       "0  IN_TRANSIT_TO  POINT (-118.24813 34.06409)  4-13167       9502  34.064091   \n",
       "1  IN_TRANSIT_TO  POINT (-118.24138 34.05773)  4-13167       9525  34.057732   \n",
       "2  IN_TRANSIT_TO  POINT (-118.38973 34.07549)  4-13167       9583  34.075485   \n",
       "3  IN_TRANSIT_TO  POINT (-118.35161 34.09082)  4-13167       8718  34.090816   \n",
       "4     STOPPED_AT  POINT (-118.49478 34.01670)  4-13167       8723  34.016705   \n",
       "\n",
       "    longitude     bearing     timestamp      speed                      time  \n",
       "0 -118.248131  135.498047  1.678706e+09  17.702784 2023-03-13 04:20:27-07:00  \n",
       "1 -118.241379   58.803864  1.678706e+09  13.411200 2023-03-13 04:18:46-07:00  \n",
       "2 -118.389732   50.253380  1.678706e+09   8.404351 2023-03-13 04:20:28-07:00  \n",
       "3 -118.351608  270.399628  1.678706e+09  12.070080 2023-03-13 04:19:33-07:00  \n",
       "4 -118.494781   46.463627  1.678706e+09   0.044704 2023-03-13 04:20:29-07:00  "
      ]
     },
     "execution_count": 14,
     "metadata": {},
     "output_type": "execute_result"
    }
   ],
   "source": [
    "# convert utc time to Los Angeles time\n",
    "gdf['time'] = gdf['time'].dt.tz_localize('UTC').dt.tz_convert('US/Pacific')\n",
    "gdf.head()"
   ]
  },
  {
   "cell_type": "markdown",
   "metadata": {
    "slideshow": {
     "slide_type": "slide"
    }
   },
   "source": [
    "### Create an empty csv file\n",
    "While we can save the metro data to a dataframe, let us also simultaneously save the data in a .csv file. The .csv file will allow the file to live outside of this jupyter notebook.\n",
    "\n",
    "Python allows you to \"write,\" or create a new csv file to your directory.\n",
    "\n",
    "- https://docs.python.org/3/library/csv.html\n",
    "\n",
    "We first create an empty csv file with the headers from our metro data feed."
   ]
  },
  {
   "cell_type": "code",
   "execution_count": 15,
   "metadata": {
    "slideshow": {
     "slide_type": "slide"
    }
   },
   "outputs": [
    {
     "data": {
      "text/plain": [
       "['current_status',\n",
       " 'geometry',\n",
       " 'route_id',\n",
       " 'vehicle_id',\n",
       " 'latitude',\n",
       " 'longitude',\n",
       " 'bearing',\n",
       " 'timestamp',\n",
       " 'speed',\n",
       " 'time']"
      ]
     },
     "execution_count": 15,
     "metadata": {},
     "output_type": "execute_result"
    }
   ],
   "source": [
    "# name of csv file  \n",
    "filename = \"bus.csv\"\n",
    "    \n",
    "# field names to use as headers\n",
    "fields = list(gdf)\n",
    "\n",
    "fields"
   ]
  },
  {
   "cell_type": "code",
   "execution_count": 16,
   "metadata": {
    "slideshow": {
     "slide_type": "slide"
    }
   },
   "outputs": [],
   "source": [
    "# write/create a new csv file ('w') \n",
    "with open(filename, 'w') as csvfile:  \n",
    "    # creating a csv writer object  \n",
    "    csvwriter = csv.writer(csvfile)  \n",
    "        \n",
    "    # writing the fields  \n",
    "    csvwriter.writerow(fields)  "
   ]
  },
  {
   "cell_type": "markdown",
   "metadata": {},
   "source": [
    "You should now see a new file `bus.csv` in your file directory. Check to make sure!"
   ]
  },
  {
   "cell_type": "markdown",
   "metadata": {
    "slideshow": {
     "slide_type": "slide"
    }
   },
   "source": [
    "### Append data to csv\n",
    "\n",
    "Check your JupyterHub file space and confirm that the file `bus.csv` has been created. Now, we will append the dataframe to the csv file."
   ]
  },
  {
   "cell_type": "code",
   "execution_count": 17,
   "metadata": {
    "scrolled": true,
    "slideshow": {
     "slide_type": "fragment"
    }
   },
   "outputs": [],
   "source": [
    "# Open your CSV file in append mode ('a')\n",
    "with open('bus.csv', 'a') as busfile: \n",
    "      \n",
    "    # create a dictionary writer\n",
    "    dictwriter = DictWriter(busfile, fieldnames=fields) \n",
    "\n",
    "    # loop through each row and add it to the csv file\n",
    "    for index, row in gdf.iterrows():\n",
    "        #Pass the dictionary as an argument to the writerow() \n",
    "        dictwriter.writerow(row.to_dict()) \n",
    "  \n",
    "    #Close the file object \n",
    "    busfile.close()"
   ]
  },
  {
   "cell_type": "markdown",
   "metadata": {},
   "source": [
    "You csv file has been baked! Double click the file from your directory and confirm that the bus data is there (you might have to close your file once and reopen to see the changes)"
   ]
  },
  {
   "attachments": {},
   "cell_type": "markdown",
   "metadata": {
    "slideshow": {
     "slide_type": "slide"
    }
   },
   "source": [
    "## Making it into a function\n",
    "\n",
    "We have now reviewed the entire workflow to do the following:\n",
    "\n",
    "- call the metro API and retrieve the location of \"live\" buses on a given route\n",
    "- convert the json data to a dataframe\n",
    "- create a timestamp for the data and adjust the timezone for Los Angeles\n",
    "- create a csv file of our data\n",
    "\n",
    "Next, let's create a function that does all of the above, which will allow us to automate the retrieval of bus data at given time intervals."
   ]
  },
  {
   "cell_type": "markdown",
   "metadata": {
    "slideshow": {
     "slide_type": "slide"
    }
   },
   "source": [
    "## In class exercise\n",
    "\n",
    "- create a function `scrape_metro()` that accepts an argument for `line` (with the default being `line = '2'`\n",
    "- add all the relevant steps (as shown in the code cells above) that produces the csv file with the adjusted timestamp\n",
    "- in another cell, run the function `scrape_metro()`\n",
    "- open the `bus.csv` file to make sure new rows have been added\n",
    "\n",
    "Perform these steps in the cells below. DO NOT SCROLL DOWN UNTIL YOU ARE DONE! The answers are below :)"
   ]
  },
  {
   "cell_type": "code",
   "execution_count": null,
   "metadata": {},
   "outputs": [],
   "source": []
  },
  {
   "cell_type": "code",
   "execution_count": null,
   "metadata": {},
   "outputs": [],
   "source": []
  },
  {
   "cell_type": "code",
   "execution_count": null,
   "metadata": {},
   "outputs": [],
   "source": []
  },
  {
   "cell_type": "code",
   "execution_count": null,
   "metadata": {},
   "outputs": [],
   "source": []
  },
  {
   "cell_type": "code",
   "execution_count": null,
   "metadata": {},
   "outputs": [],
   "source": []
  },
  {
   "cell_type": "code",
   "execution_count": null,
   "metadata": {},
   "outputs": [],
   "source": []
  },
  {
   "cell_type": "code",
   "execution_count": null,
   "metadata": {},
   "outputs": [],
   "source": []
  },
  {
   "cell_type": "code",
   "execution_count": null,
   "metadata": {},
   "outputs": [],
   "source": []
  },
  {
   "cell_type": "code",
   "execution_count": null,
   "metadata": {},
   "outputs": [],
   "source": []
  },
  {
   "cell_type": "code",
   "execution_count": null,
   "metadata": {},
   "outputs": [],
   "source": []
  },
  {
   "cell_type": "code",
   "execution_count": null,
   "metadata": {},
   "outputs": [],
   "source": []
  },
  {
   "cell_type": "code",
   "execution_count": null,
   "metadata": {},
   "outputs": [],
   "source": []
  },
  {
   "cell_type": "code",
   "execution_count": null,
   "metadata": {},
   "outputs": [],
   "source": []
  },
  {
   "cell_type": "code",
   "execution_count": null,
   "metadata": {},
   "outputs": [],
   "source": []
  },
  {
   "cell_type": "code",
   "execution_count": null,
   "metadata": {},
   "outputs": [],
   "source": []
  },
  {
   "cell_type": "code",
   "execution_count": 18,
   "metadata": {
    "slideshow": {
     "slide_type": "slide"
    }
   },
   "outputs": [],
   "source": [
    "def scrape_metro(line=4):\n",
    "    # metro line to scrape\n",
    "    line = line\n",
    "\n",
    "    # api url for metro stops\n",
    "    # url = 'https://api.metro.net/agencies/lametro/routes/'+str(line)+'/vehicles/'\n",
    "\n",
    "    gdf = gpd.read_file('https://api.metro.net/LACMTA/vehicle_positions/route_code/'+str(line)+'?geojson=true')\n",
    "\n",
    "    gdf = pd.concat([gdf, gdf[\"trip\"].apply(pd.Series)], axis=1)\n",
    "    gdf = pd.concat([gdf, gdf[\"vehicle\"].apply(pd.Series)], axis=1)\n",
    "    gdf = pd.concat([gdf, gdf[\"position\"].apply(pd.Series)], axis=1)\n",
    "\n",
    "    # drop columns\n",
    "    gdf = gdf.drop(columns=['trip','vehicle','position','vehicle_label','trip_id','trip_start_date'])\n",
    "\n",
    "    gdf['time'] = pd.to_datetime(gdf['timestamp'],unit='s')\n",
    "\n",
    "    # convert utc time to Los Angeles time\n",
    "    gdf['time'] = gdf['time'].dt.tz_localize('UTC').dt.tz_convert('US/Pacific')\n",
    "    \n",
    "    # Open your CSV file in append mode ('a')\n",
    "    with open('bus.csv', 'a') as busfile: \n",
    "        \n",
    "        # create a dictionary writer\n",
    "        dictwriter = DictWriter(busfile, fieldnames=fields) \n",
    "\n",
    "        # loop through each row and add it to the csv file\n",
    "        for index, row in gdf.iterrows():\n",
    "            #Pass the dictionary as an argument to the writerow() \n",
    "            dictwriter.writerow(row.to_dict()) \n",
    "    \n",
    "        #Close the file object \n",
    "        busfile.close()"
   ]
  },
  {
   "cell_type": "code",
   "execution_count": 19,
   "metadata": {
    "slideshow": {
     "slide_type": "slide"
    }
   },
   "outputs": [],
   "source": [
    "# test the function\n",
    "scrape_metro()"
   ]
  },
  {
   "cell_type": "markdown",
   "metadata": {},
   "source": [
    "Check the file bus.csv!"
   ]
  },
  {
   "cell_type": "markdown",
   "metadata": {
    "slideshow": {
     "slide_type": "slide"
    }
   },
   "source": [
    "## Automate it\n",
    "\n",
    "The beauty of coding is that we can automate our code. The following code cell uses the `time` library, along with a `while` loop to run our function every 10 seconds, 10 times. Of course, these numbers can be modified as you wish.\n",
    "\n",
    "First, recreate the `bus.csv` file:"
   ]
  },
  {
   "cell_type": "code",
   "execution_count": 20,
   "metadata": {
    "slideshow": {
     "slide_type": "fragment"
    }
   },
   "outputs": [],
   "source": [
    "# write/create a new csv file ('w') \n",
    "with open(filename, 'w') as csvfile:  \n",
    "    # creating a csv writer object  \n",
    "    csvwriter = csv.writer(csvfile)  \n",
    "        \n",
    "    # writing the fields  \n",
    "    csvwriter.writerow(fields)  "
   ]
  },
  {
   "cell_type": "markdown",
   "metadata": {
    "slideshow": {
     "slide_type": "slide"
    }
   },
   "source": [
    "Next, run the while loop:"
   ]
  },
  {
   "cell_type": "code",
   "execution_count": 21,
   "metadata": {
    "slideshow": {
     "slide_type": "-"
    }
   },
   "outputs": [
    {
     "name": "stdout",
     "output_type": "stream",
     "text": [
      "Starting metro scraper, once every 10 seconds for 30 iterations...\n",
      "1: 2023-03-13 04:22:13\n"
     ]
    }
   ],
   "source": [
    "import time\n",
    "\n",
    "# set a counter\n",
    "i = 1\n",
    "\n",
    "# how many times to run\n",
    "runtimes = 30\n",
    "\n",
    "# run every x seconds\n",
    "rest = 10\n",
    "\n",
    "# start message\n",
    "print('Starting metro scraper, once every '+str(rest)+' seconds for '+str(runtimes)+' iterations...')\n",
    "\n",
    "# start the loop\n",
    "while i <= runtimes:\n",
    "    # timestamp to print out\n",
    "    now = datetime.now(timezone('US/Pacific'))\n",
    "    now = now.strftime('%Y-%m-%d %H:%M:%S')\n",
    "\n",
    "    print(str(i) + ': ' + now)\n",
    "    scrape_metro()\n",
    "    i += 1\n",
    "    \n",
    "    # run this every x seconds\n",
    "    time.sleep(rest)"
   ]
  },
  {
   "cell_type": "markdown",
   "metadata": {},
   "source": [
    "If you see 10 lines above, you're done! Now, put the csv file into a dataframe:"
   ]
  },
  {
   "cell_type": "code",
   "execution_count": 22,
   "metadata": {},
   "outputs": [],
   "source": [
    "# put data into dataframe\n",
    "df = pd.read_csv('bus.csv')"
   ]
  },
  {
   "cell_type": "code",
   "execution_count": 23,
   "metadata": {
    "slideshow": {
     "slide_type": "slide"
    }
   },
   "outputs": [
    {
     "data": {
      "text/plain": [
       "(40, 10)"
      ]
     },
     "execution_count": 23,
     "metadata": {},
     "output_type": "execute_result"
    }
   ],
   "source": [
    "# check the data\n",
    "df.shape"
   ]
  },
  {
   "cell_type": "code",
   "execution_count": 24,
   "metadata": {
    "slideshow": {
     "slide_type": "fragment"
    }
   },
   "outputs": [
    {
     "name": "stdout",
     "output_type": "stream",
     "text": [
      "<class 'pandas.core.frame.DataFrame'>\n",
      "RangeIndex: 40 entries, 0 to 39\n",
      "Data columns (total 10 columns):\n",
      " #   Column          Non-Null Count  Dtype  \n",
      "---  ------          --------------  -----  \n",
      " 0   current_status  40 non-null     object \n",
      " 1   geometry        40 non-null     object \n",
      " 2   route_id        40 non-null     object \n",
      " 3   vehicle_id      40 non-null     int64  \n",
      " 4   latitude        40 non-null     float64\n",
      " 5   longitude       40 non-null     float64\n",
      " 6   bearing         40 non-null     float64\n",
      " 7   timestamp       40 non-null     float64\n",
      " 8   speed           39 non-null     float64\n",
      " 9   time            40 non-null     object \n",
      "dtypes: float64(5), int64(1), object(4)\n",
      "memory usage: 3.2+ KB\n"
     ]
    }
   ],
   "source": [
    "df.info()"
   ]
  },
  {
   "cell_type": "code",
   "execution_count": 25,
   "metadata": {
    "slideshow": {
     "slide_type": "slide"
    }
   },
   "outputs": [
    {
     "data": {
      "text/html": [
       "<div>\n",
       "<style scoped>\n",
       "    .dataframe tbody tr th:only-of-type {\n",
       "        vertical-align: middle;\n",
       "    }\n",
       "\n",
       "    .dataframe tbody tr th {\n",
       "        vertical-align: top;\n",
       "    }\n",
       "\n",
       "    .dataframe thead th {\n",
       "        text-align: right;\n",
       "    }\n",
       "</style>\n",
       "<table border=\"1\" class=\"dataframe\">\n",
       "  <thead>\n",
       "    <tr style=\"text-align: right;\">\n",
       "      <th></th>\n",
       "      <th>current_status</th>\n",
       "      <th>geometry</th>\n",
       "      <th>route_id</th>\n",
       "      <th>vehicle_id</th>\n",
       "      <th>latitude</th>\n",
       "      <th>longitude</th>\n",
       "      <th>bearing</th>\n",
       "      <th>timestamp</th>\n",
       "      <th>speed</th>\n",
       "      <th>time</th>\n",
       "    </tr>\n",
       "  </thead>\n",
       "  <tbody>\n",
       "    <tr>\n",
       "      <th>0</th>\n",
       "      <td>STOPPED_AT</td>\n",
       "      <td>POINT (-118.28153991699219 34.011295318603516)</td>\n",
       "      <td>2-13167</td>\n",
       "      <td>8529</td>\n",
       "      <td>34.011295</td>\n",
       "      <td>-118.281540</td>\n",
       "      <td>178.000000</td>\n",
       "      <td>1.678706e+09</td>\n",
       "      <td>NaN</td>\n",
       "      <td>2023-03-13 04:09:20-07:00</td>\n",
       "    </tr>\n",
       "    <tr>\n",
       "      <th>1</th>\n",
       "      <td>STOPPED_AT</td>\n",
       "      <td>POINT (-118.27973937988281 34.051841735839844)</td>\n",
       "      <td>2-13167</td>\n",
       "      <td>3869</td>\n",
       "      <td>34.051842</td>\n",
       "      <td>-118.279739</td>\n",
       "      <td>27.872110</td>\n",
       "      <td>1.678706e+09</td>\n",
       "      <td>7.778496</td>\n",
       "      <td>2023-03-13 04:09:19-07:00</td>\n",
       "    </tr>\n",
       "    <tr>\n",
       "      <th>2</th>\n",
       "      <td>STOPPED_AT</td>\n",
       "      <td>POINT (-118.44808197021484 34.06409454345703)</td>\n",
       "      <td>2-13167</td>\n",
       "      <td>5766</td>\n",
       "      <td>34.064095</td>\n",
       "      <td>-118.448082</td>\n",
       "      <td>87.094864</td>\n",
       "      <td>1.678706e+09</td>\n",
       "      <td>0.044704</td>\n",
       "      <td>2023-03-13 04:09:17-07:00</td>\n",
       "    </tr>\n",
       "    <tr>\n",
       "      <th>3</th>\n",
       "      <td>STOPPED_AT</td>\n",
       "      <td>POINT (-118.30073547363281 34.09806442260742)</td>\n",
       "      <td>2-13167</td>\n",
       "      <td>8429</td>\n",
       "      <td>34.098064</td>\n",
       "      <td>-118.300735</td>\n",
       "      <td>89.893234</td>\n",
       "      <td>1.678706e+09</td>\n",
       "      <td>0.044704</td>\n",
       "      <td>2023-03-13 04:09:18-07:00</td>\n",
       "    </tr>\n",
       "    <tr>\n",
       "      <th>4</th>\n",
       "      <td>STOPPED_AT</td>\n",
       "      <td>POINT (-118.27938079833984 34.011104583740234)</td>\n",
       "      <td>2-13167</td>\n",
       "      <td>8529</td>\n",
       "      <td>34.011105</td>\n",
       "      <td>-118.279381</td>\n",
       "      <td>87.000000</td>\n",
       "      <td>1.678706e+09</td>\n",
       "      <td>12.025375</td>\n",
       "      <td>2023-03-13 04:10:30-07:00</td>\n",
       "    </tr>\n",
       "    <tr>\n",
       "      <th>5</th>\n",
       "      <td>IN_TRANSIT_TO</td>\n",
       "      <td>POINT (-118.27765655517578 34.055137634277344)</td>\n",
       "      <td>2-13167</td>\n",
       "      <td>3869</td>\n",
       "      <td>34.055138</td>\n",
       "      <td>-118.277657</td>\n",
       "      <td>27.780661</td>\n",
       "      <td>1.678706e+09</td>\n",
       "      <td>9.879584</td>\n",
       "      <td>2023-03-13 04:10:29-07:00</td>\n",
       "    </tr>\n",
       "    <tr>\n",
       "      <th>6</th>\n",
       "      <td>STOPPED_AT</td>\n",
       "      <td>POINT (-118.44808197021484 34.06409454345703)</td>\n",
       "      <td>2-13167</td>\n",
       "      <td>5766</td>\n",
       "      <td>34.064095</td>\n",
       "      <td>-118.448082</td>\n",
       "      <td>87.094864</td>\n",
       "      <td>1.678706e+09</td>\n",
       "      <td>0.089408</td>\n",
       "      <td>2023-03-13 04:10:27-07:00</td>\n",
       "    </tr>\n",
       "    <tr>\n",
       "      <th>7</th>\n",
       "      <td>IN_TRANSIT_TO</td>\n",
       "      <td>POINT (-118.2945556640625 34.09811782836914)</td>\n",
       "      <td>2-13167</td>\n",
       "      <td>8429</td>\n",
       "      <td>34.098118</td>\n",
       "      <td>-118.294556</td>\n",
       "      <td>89.760025</td>\n",
       "      <td>1.678706e+09</td>\n",
       "      <td>10.773664</td>\n",
       "      <td>2023-03-13 04:10:28-07:00</td>\n",
       "    </tr>\n",
       "    <tr>\n",
       "      <th>8</th>\n",
       "      <td>STOPPED_AT</td>\n",
       "      <td>POINT (-118.27938079833984 34.011104583740234)</td>\n",
       "      <td>2-13167</td>\n",
       "      <td>8529</td>\n",
       "      <td>34.011105</td>\n",
       "      <td>-118.279381</td>\n",
       "      <td>87.000000</td>\n",
       "      <td>1.678706e+09</td>\n",
       "      <td>12.025375</td>\n",
       "      <td>2023-03-13 04:10:30-07:00</td>\n",
       "    </tr>\n",
       "    <tr>\n",
       "      <th>9</th>\n",
       "      <td>IN_TRANSIT_TO</td>\n",
       "      <td>POINT (-118.27765655517578 34.055137634277344)</td>\n",
       "      <td>2-13167</td>\n",
       "      <td>3869</td>\n",
       "      <td>34.055138</td>\n",
       "      <td>-118.277657</td>\n",
       "      <td>27.780661</td>\n",
       "      <td>1.678706e+09</td>\n",
       "      <td>9.879584</td>\n",
       "      <td>2023-03-13 04:10:29-07:00</td>\n",
       "    </tr>\n",
       "    <tr>\n",
       "      <th>10</th>\n",
       "      <td>STOPPED_AT</td>\n",
       "      <td>POINT (-118.44808197021484 34.06409454345703)</td>\n",
       "      <td>2-13167</td>\n",
       "      <td>5766</td>\n",
       "      <td>34.064095</td>\n",
       "      <td>-118.448082</td>\n",
       "      <td>87.094864</td>\n",
       "      <td>1.678706e+09</td>\n",
       "      <td>0.089408</td>\n",
       "      <td>2023-03-13 04:10:27-07:00</td>\n",
       "    </tr>\n",
       "    <tr>\n",
       "      <th>11</th>\n",
       "      <td>IN_TRANSIT_TO</td>\n",
       "      <td>POINT (-118.2945556640625 34.09811782836914)</td>\n",
       "      <td>2-13167</td>\n",
       "      <td>8429</td>\n",
       "      <td>34.098118</td>\n",
       "      <td>-118.294556</td>\n",
       "      <td>89.760025</td>\n",
       "      <td>1.678706e+09</td>\n",
       "      <td>10.773664</td>\n",
       "      <td>2023-03-13 04:10:28-07:00</td>\n",
       "    </tr>\n",
       "    <tr>\n",
       "      <th>12</th>\n",
       "      <td>STOPPED_AT</td>\n",
       "      <td>POINT (-118.27938079833984 34.011104583740234)</td>\n",
       "      <td>2-13167</td>\n",
       "      <td>8529</td>\n",
       "      <td>34.011105</td>\n",
       "      <td>-118.279381</td>\n",
       "      <td>87.000000</td>\n",
       "      <td>1.678706e+09</td>\n",
       "      <td>12.025375</td>\n",
       "      <td>2023-03-13 04:10:30-07:00</td>\n",
       "    </tr>\n",
       "    <tr>\n",
       "      <th>13</th>\n",
       "      <td>IN_TRANSIT_TO</td>\n",
       "      <td>POINT (-118.27765655517578 34.055137634277344)</td>\n",
       "      <td>2-13167</td>\n",
       "      <td>3869</td>\n",
       "      <td>34.055138</td>\n",
       "      <td>-118.277657</td>\n",
       "      <td>27.780661</td>\n",
       "      <td>1.678706e+09</td>\n",
       "      <td>9.879584</td>\n",
       "      <td>2023-03-13 04:10:29-07:00</td>\n",
       "    </tr>\n",
       "    <tr>\n",
       "      <th>14</th>\n",
       "      <td>STOPPED_AT</td>\n",
       "      <td>POINT (-118.44808197021484 34.06409454345703)</td>\n",
       "      <td>2-13167</td>\n",
       "      <td>5766</td>\n",
       "      <td>34.064095</td>\n",
       "      <td>-118.448082</td>\n",
       "      <td>87.094864</td>\n",
       "      <td>1.678706e+09</td>\n",
       "      <td>0.089408</td>\n",
       "      <td>2023-03-13 04:10:27-07:00</td>\n",
       "    </tr>\n",
       "    <tr>\n",
       "      <th>15</th>\n",
       "      <td>IN_TRANSIT_TO</td>\n",
       "      <td>POINT (-118.2945556640625 34.09811782836914)</td>\n",
       "      <td>2-13167</td>\n",
       "      <td>8429</td>\n",
       "      <td>34.098118</td>\n",
       "      <td>-118.294556</td>\n",
       "      <td>89.760025</td>\n",
       "      <td>1.678706e+09</td>\n",
       "      <td>10.773664</td>\n",
       "      <td>2023-03-13 04:10:28-07:00</td>\n",
       "    </tr>\n",
       "    <tr>\n",
       "      <th>16</th>\n",
       "      <td>STOPPED_AT</td>\n",
       "      <td>POINT (-118.27938079833984 34.011104583740234)</td>\n",
       "      <td>2-13167</td>\n",
       "      <td>8529</td>\n",
       "      <td>34.011105</td>\n",
       "      <td>-118.279381</td>\n",
       "      <td>87.000000</td>\n",
       "      <td>1.678706e+09</td>\n",
       "      <td>12.025375</td>\n",
       "      <td>2023-03-13 04:10:30-07:00</td>\n",
       "    </tr>\n",
       "    <tr>\n",
       "      <th>17</th>\n",
       "      <td>IN_TRANSIT_TO</td>\n",
       "      <td>POINT (-118.27765655517578 34.055137634277344)</td>\n",
       "      <td>2-13167</td>\n",
       "      <td>3869</td>\n",
       "      <td>34.055138</td>\n",
       "      <td>-118.277657</td>\n",
       "      <td>27.780661</td>\n",
       "      <td>1.678706e+09</td>\n",
       "      <td>9.879584</td>\n",
       "      <td>2023-03-13 04:10:29-07:00</td>\n",
       "    </tr>\n",
       "    <tr>\n",
       "      <th>18</th>\n",
       "      <td>STOPPED_AT</td>\n",
       "      <td>POINT (-118.44808197021484 34.06409454345703)</td>\n",
       "      <td>2-13167</td>\n",
       "      <td>5766</td>\n",
       "      <td>34.064095</td>\n",
       "      <td>-118.448082</td>\n",
       "      <td>87.094864</td>\n",
       "      <td>1.678706e+09</td>\n",
       "      <td>0.089408</td>\n",
       "      <td>2023-03-13 04:10:27-07:00</td>\n",
       "    </tr>\n",
       "    <tr>\n",
       "      <th>19</th>\n",
       "      <td>IN_TRANSIT_TO</td>\n",
       "      <td>POINT (-118.2945556640625 34.09811782836914)</td>\n",
       "      <td>2-13167</td>\n",
       "      <td>8429</td>\n",
       "      <td>34.098118</td>\n",
       "      <td>-118.294556</td>\n",
       "      <td>89.760025</td>\n",
       "      <td>1.678706e+09</td>\n",
       "      <td>10.773664</td>\n",
       "      <td>2023-03-13 04:10:28-07:00</td>\n",
       "    </tr>\n",
       "    <tr>\n",
       "      <th>20</th>\n",
       "      <td>STOPPED_AT</td>\n",
       "      <td>POINT (-118.27938079833984 34.011104583740234)</td>\n",
       "      <td>2-13167</td>\n",
       "      <td>8529</td>\n",
       "      <td>34.011105</td>\n",
       "      <td>-118.279381</td>\n",
       "      <td>87.000000</td>\n",
       "      <td>1.678706e+09</td>\n",
       "      <td>12.025375</td>\n",
       "      <td>2023-03-13 04:10:30-07:00</td>\n",
       "    </tr>\n",
       "    <tr>\n",
       "      <th>21</th>\n",
       "      <td>IN_TRANSIT_TO</td>\n",
       "      <td>POINT (-118.27765655517578 34.055137634277344)</td>\n",
       "      <td>2-13167</td>\n",
       "      <td>3869</td>\n",
       "      <td>34.055138</td>\n",
       "      <td>-118.277657</td>\n",
       "      <td>27.780661</td>\n",
       "      <td>1.678706e+09</td>\n",
       "      <td>9.879584</td>\n",
       "      <td>2023-03-13 04:10:29-07:00</td>\n",
       "    </tr>\n",
       "    <tr>\n",
       "      <th>22</th>\n",
       "      <td>STOPPED_AT</td>\n",
       "      <td>POINT (-118.44808197021484 34.06409454345703)</td>\n",
       "      <td>2-13167</td>\n",
       "      <td>5766</td>\n",
       "      <td>34.064095</td>\n",
       "      <td>-118.448082</td>\n",
       "      <td>87.094864</td>\n",
       "      <td>1.678706e+09</td>\n",
       "      <td>0.089408</td>\n",
       "      <td>2023-03-13 04:10:27-07:00</td>\n",
       "    </tr>\n",
       "    <tr>\n",
       "      <th>23</th>\n",
       "      <td>IN_TRANSIT_TO</td>\n",
       "      <td>POINT (-118.2945556640625 34.09811782836914)</td>\n",
       "      <td>2-13167</td>\n",
       "      <td>8429</td>\n",
       "      <td>34.098118</td>\n",
       "      <td>-118.294556</td>\n",
       "      <td>89.760025</td>\n",
       "      <td>1.678706e+09</td>\n",
       "      <td>10.773664</td>\n",
       "      <td>2023-03-13 04:10:28-07:00</td>\n",
       "    </tr>\n",
       "    <tr>\n",
       "      <th>24</th>\n",
       "      <td>STOPPED_AT</td>\n",
       "      <td>POINT (-118.27938079833984 34.011104583740234)</td>\n",
       "      <td>2-13167</td>\n",
       "      <td>8529</td>\n",
       "      <td>34.011105</td>\n",
       "      <td>-118.279381</td>\n",
       "      <td>87.000000</td>\n",
       "      <td>1.678706e+09</td>\n",
       "      <td>12.025375</td>\n",
       "      <td>2023-03-13 04:10:30-07:00</td>\n",
       "    </tr>\n",
       "    <tr>\n",
       "      <th>25</th>\n",
       "      <td>IN_TRANSIT_TO</td>\n",
       "      <td>POINT (-118.27765655517578 34.055137634277344)</td>\n",
       "      <td>2-13167</td>\n",
       "      <td>3869</td>\n",
       "      <td>34.055138</td>\n",
       "      <td>-118.277657</td>\n",
       "      <td>27.780661</td>\n",
       "      <td>1.678706e+09</td>\n",
       "      <td>9.879584</td>\n",
       "      <td>2023-03-13 04:10:29-07:00</td>\n",
       "    </tr>\n",
       "    <tr>\n",
       "      <th>26</th>\n",
       "      <td>STOPPED_AT</td>\n",
       "      <td>POINT (-118.44808197021484 34.06409454345703)</td>\n",
       "      <td>2-13167</td>\n",
       "      <td>5766</td>\n",
       "      <td>34.064095</td>\n",
       "      <td>-118.448082</td>\n",
       "      <td>87.094864</td>\n",
       "      <td>1.678706e+09</td>\n",
       "      <td>0.089408</td>\n",
       "      <td>2023-03-13 04:10:27-07:00</td>\n",
       "    </tr>\n",
       "    <tr>\n",
       "      <th>27</th>\n",
       "      <td>IN_TRANSIT_TO</td>\n",
       "      <td>POINT (-118.2945556640625 34.09811782836914)</td>\n",
       "      <td>2-13167</td>\n",
       "      <td>8429</td>\n",
       "      <td>34.098118</td>\n",
       "      <td>-118.294556</td>\n",
       "      <td>89.760025</td>\n",
       "      <td>1.678706e+09</td>\n",
       "      <td>10.773664</td>\n",
       "      <td>2023-03-13 04:10:28-07:00</td>\n",
       "    </tr>\n",
       "    <tr>\n",
       "      <th>28</th>\n",
       "      <td>STOPPED_AT</td>\n",
       "      <td>POINT (-118.27928161621094 34.01295852661133)</td>\n",
       "      <td>2-13167</td>\n",
       "      <td>8529</td>\n",
       "      <td>34.012959</td>\n",
       "      <td>-118.279282</td>\n",
       "      <td>208.000000</td>\n",
       "      <td>1.678706e+09</td>\n",
       "      <td>5.051552</td>\n",
       "      <td>2023-03-13 04:11:30-07:00</td>\n",
       "    </tr>\n",
       "    <tr>\n",
       "      <th>29</th>\n",
       "      <td>STOPPED_AT</td>\n",
       "      <td>POINT (-118.27616882324219 34.05743408203125)</td>\n",
       "      <td>2-13167</td>\n",
       "      <td>3869</td>\n",
       "      <td>34.057434</td>\n",
       "      <td>-118.276169</td>\n",
       "      <td>27.705229</td>\n",
       "      <td>1.678706e+09</td>\n",
       "      <td>3.889248</td>\n",
       "      <td>2023-03-13 04:11:29-07:00</td>\n",
       "    </tr>\n",
       "    <tr>\n",
       "      <th>30</th>\n",
       "      <td>STOPPED_AT</td>\n",
       "      <td>POINT (-118.44808197021484 34.06409454345703)</td>\n",
       "      <td>2-13167</td>\n",
       "      <td>5766</td>\n",
       "      <td>34.064095</td>\n",
       "      <td>-118.448082</td>\n",
       "      <td>88.641846</td>\n",
       "      <td>1.678706e+09</td>\n",
       "      <td>0.044704</td>\n",
       "      <td>2023-03-13 04:11:27-07:00</td>\n",
       "    </tr>\n",
       "    <tr>\n",
       "      <th>31</th>\n",
       "      <td>STOPPED_AT</td>\n",
       "      <td>POINT (-118.29081726074219 34.098121643066406)</td>\n",
       "      <td>2-13167</td>\n",
       "      <td>8429</td>\n",
       "      <td>34.098122</td>\n",
       "      <td>-118.290817</td>\n",
       "      <td>89.903946</td>\n",
       "      <td>1.678706e+09</td>\n",
       "      <td>6.616192</td>\n",
       "      <td>2023-03-13 04:11:28-07:00</td>\n",
       "    </tr>\n",
       "    <tr>\n",
       "      <th>32</th>\n",
       "      <td>STOPPED_AT</td>\n",
       "      <td>POINT (-118.27928161621094 34.01295852661133)</td>\n",
       "      <td>2-13167</td>\n",
       "      <td>8529</td>\n",
       "      <td>34.012959</td>\n",
       "      <td>-118.279282</td>\n",
       "      <td>208.000000</td>\n",
       "      <td>1.678706e+09</td>\n",
       "      <td>5.051552</td>\n",
       "      <td>2023-03-13 04:11:30-07:00</td>\n",
       "    </tr>\n",
       "    <tr>\n",
       "      <th>33</th>\n",
       "      <td>STOPPED_AT</td>\n",
       "      <td>POINT (-118.27616882324219 34.05743408203125)</td>\n",
       "      <td>2-13167</td>\n",
       "      <td>3869</td>\n",
       "      <td>34.057434</td>\n",
       "      <td>-118.276169</td>\n",
       "      <td>27.705229</td>\n",
       "      <td>1.678706e+09</td>\n",
       "      <td>3.889248</td>\n",
       "      <td>2023-03-13 04:11:29-07:00</td>\n",
       "    </tr>\n",
       "    <tr>\n",
       "      <th>34</th>\n",
       "      <td>STOPPED_AT</td>\n",
       "      <td>POINT (-118.44808197021484 34.06409454345703)</td>\n",
       "      <td>2-13167</td>\n",
       "      <td>5766</td>\n",
       "      <td>34.064095</td>\n",
       "      <td>-118.448082</td>\n",
       "      <td>88.641846</td>\n",
       "      <td>1.678706e+09</td>\n",
       "      <td>0.044704</td>\n",
       "      <td>2023-03-13 04:11:27-07:00</td>\n",
       "    </tr>\n",
       "    <tr>\n",
       "      <th>35</th>\n",
       "      <td>STOPPED_AT</td>\n",
       "      <td>POINT (-118.29081726074219 34.098121643066406)</td>\n",
       "      <td>2-13167</td>\n",
       "      <td>8429</td>\n",
       "      <td>34.098122</td>\n",
       "      <td>-118.290817</td>\n",
       "      <td>89.903946</td>\n",
       "      <td>1.678706e+09</td>\n",
       "      <td>6.616192</td>\n",
       "      <td>2023-03-13 04:11:28-07:00</td>\n",
       "    </tr>\n",
       "    <tr>\n",
       "      <th>36</th>\n",
       "      <td>STOPPED_AT</td>\n",
       "      <td>POINT (-118.27928161621094 34.01295852661133)</td>\n",
       "      <td>2-13167</td>\n",
       "      <td>8529</td>\n",
       "      <td>34.012959</td>\n",
       "      <td>-118.279282</td>\n",
       "      <td>208.000000</td>\n",
       "      <td>1.678706e+09</td>\n",
       "      <td>5.051552</td>\n",
       "      <td>2023-03-13 04:11:30-07:00</td>\n",
       "    </tr>\n",
       "    <tr>\n",
       "      <th>37</th>\n",
       "      <td>STOPPED_AT</td>\n",
       "      <td>POINT (-118.27616882324219 34.05743408203125)</td>\n",
       "      <td>2-13167</td>\n",
       "      <td>3869</td>\n",
       "      <td>34.057434</td>\n",
       "      <td>-118.276169</td>\n",
       "      <td>27.705229</td>\n",
       "      <td>1.678706e+09</td>\n",
       "      <td>3.889248</td>\n",
       "      <td>2023-03-13 04:11:29-07:00</td>\n",
       "    </tr>\n",
       "    <tr>\n",
       "      <th>38</th>\n",
       "      <td>STOPPED_AT</td>\n",
       "      <td>POINT (-118.44808197021484 34.06409454345703)</td>\n",
       "      <td>2-13167</td>\n",
       "      <td>5766</td>\n",
       "      <td>34.064095</td>\n",
       "      <td>-118.448082</td>\n",
       "      <td>88.641846</td>\n",
       "      <td>1.678706e+09</td>\n",
       "      <td>0.044704</td>\n",
       "      <td>2023-03-13 04:11:27-07:00</td>\n",
       "    </tr>\n",
       "    <tr>\n",
       "      <th>39</th>\n",
       "      <td>STOPPED_AT</td>\n",
       "      <td>POINT (-118.29081726074219 34.098121643066406)</td>\n",
       "      <td>2-13167</td>\n",
       "      <td>8429</td>\n",
       "      <td>34.098122</td>\n",
       "      <td>-118.290817</td>\n",
       "      <td>89.903946</td>\n",
       "      <td>1.678706e+09</td>\n",
       "      <td>6.616192</td>\n",
       "      <td>2023-03-13 04:11:28-07:00</td>\n",
       "    </tr>\n",
       "  </tbody>\n",
       "</table>\n",
       "</div>"
      ],
      "text/plain": [
       "   current_status                                        geometry route_id  \\\n",
       "0      STOPPED_AT  POINT (-118.28153991699219 34.011295318603516)  2-13167   \n",
       "1      STOPPED_AT  POINT (-118.27973937988281 34.051841735839844)  2-13167   \n",
       "2      STOPPED_AT   POINT (-118.44808197021484 34.06409454345703)  2-13167   \n",
       "3      STOPPED_AT   POINT (-118.30073547363281 34.09806442260742)  2-13167   \n",
       "4      STOPPED_AT  POINT (-118.27938079833984 34.011104583740234)  2-13167   \n",
       "5   IN_TRANSIT_TO  POINT (-118.27765655517578 34.055137634277344)  2-13167   \n",
       "6      STOPPED_AT   POINT (-118.44808197021484 34.06409454345703)  2-13167   \n",
       "7   IN_TRANSIT_TO    POINT (-118.2945556640625 34.09811782836914)  2-13167   \n",
       "8      STOPPED_AT  POINT (-118.27938079833984 34.011104583740234)  2-13167   \n",
       "9   IN_TRANSIT_TO  POINT (-118.27765655517578 34.055137634277344)  2-13167   \n",
       "10     STOPPED_AT   POINT (-118.44808197021484 34.06409454345703)  2-13167   \n",
       "11  IN_TRANSIT_TO    POINT (-118.2945556640625 34.09811782836914)  2-13167   \n",
       "12     STOPPED_AT  POINT (-118.27938079833984 34.011104583740234)  2-13167   \n",
       "13  IN_TRANSIT_TO  POINT (-118.27765655517578 34.055137634277344)  2-13167   \n",
       "14     STOPPED_AT   POINT (-118.44808197021484 34.06409454345703)  2-13167   \n",
       "15  IN_TRANSIT_TO    POINT (-118.2945556640625 34.09811782836914)  2-13167   \n",
       "16     STOPPED_AT  POINT (-118.27938079833984 34.011104583740234)  2-13167   \n",
       "17  IN_TRANSIT_TO  POINT (-118.27765655517578 34.055137634277344)  2-13167   \n",
       "18     STOPPED_AT   POINT (-118.44808197021484 34.06409454345703)  2-13167   \n",
       "19  IN_TRANSIT_TO    POINT (-118.2945556640625 34.09811782836914)  2-13167   \n",
       "20     STOPPED_AT  POINT (-118.27938079833984 34.011104583740234)  2-13167   \n",
       "21  IN_TRANSIT_TO  POINT (-118.27765655517578 34.055137634277344)  2-13167   \n",
       "22     STOPPED_AT   POINT (-118.44808197021484 34.06409454345703)  2-13167   \n",
       "23  IN_TRANSIT_TO    POINT (-118.2945556640625 34.09811782836914)  2-13167   \n",
       "24     STOPPED_AT  POINT (-118.27938079833984 34.011104583740234)  2-13167   \n",
       "25  IN_TRANSIT_TO  POINT (-118.27765655517578 34.055137634277344)  2-13167   \n",
       "26     STOPPED_AT   POINT (-118.44808197021484 34.06409454345703)  2-13167   \n",
       "27  IN_TRANSIT_TO    POINT (-118.2945556640625 34.09811782836914)  2-13167   \n",
       "28     STOPPED_AT   POINT (-118.27928161621094 34.01295852661133)  2-13167   \n",
       "29     STOPPED_AT   POINT (-118.27616882324219 34.05743408203125)  2-13167   \n",
       "30     STOPPED_AT   POINT (-118.44808197021484 34.06409454345703)  2-13167   \n",
       "31     STOPPED_AT  POINT (-118.29081726074219 34.098121643066406)  2-13167   \n",
       "32     STOPPED_AT   POINT (-118.27928161621094 34.01295852661133)  2-13167   \n",
       "33     STOPPED_AT   POINT (-118.27616882324219 34.05743408203125)  2-13167   \n",
       "34     STOPPED_AT   POINT (-118.44808197021484 34.06409454345703)  2-13167   \n",
       "35     STOPPED_AT  POINT (-118.29081726074219 34.098121643066406)  2-13167   \n",
       "36     STOPPED_AT   POINT (-118.27928161621094 34.01295852661133)  2-13167   \n",
       "37     STOPPED_AT   POINT (-118.27616882324219 34.05743408203125)  2-13167   \n",
       "38     STOPPED_AT   POINT (-118.44808197021484 34.06409454345703)  2-13167   \n",
       "39     STOPPED_AT  POINT (-118.29081726074219 34.098121643066406)  2-13167   \n",
       "\n",
       "    vehicle_id   latitude   longitude     bearing     timestamp      speed  \\\n",
       "0         8529  34.011295 -118.281540  178.000000  1.678706e+09        NaN   \n",
       "1         3869  34.051842 -118.279739   27.872110  1.678706e+09   7.778496   \n",
       "2         5766  34.064095 -118.448082   87.094864  1.678706e+09   0.044704   \n",
       "3         8429  34.098064 -118.300735   89.893234  1.678706e+09   0.044704   \n",
       "4         8529  34.011105 -118.279381   87.000000  1.678706e+09  12.025375   \n",
       "5         3869  34.055138 -118.277657   27.780661  1.678706e+09   9.879584   \n",
       "6         5766  34.064095 -118.448082   87.094864  1.678706e+09   0.089408   \n",
       "7         8429  34.098118 -118.294556   89.760025  1.678706e+09  10.773664   \n",
       "8         8529  34.011105 -118.279381   87.000000  1.678706e+09  12.025375   \n",
       "9         3869  34.055138 -118.277657   27.780661  1.678706e+09   9.879584   \n",
       "10        5766  34.064095 -118.448082   87.094864  1.678706e+09   0.089408   \n",
       "11        8429  34.098118 -118.294556   89.760025  1.678706e+09  10.773664   \n",
       "12        8529  34.011105 -118.279381   87.000000  1.678706e+09  12.025375   \n",
       "13        3869  34.055138 -118.277657   27.780661  1.678706e+09   9.879584   \n",
       "14        5766  34.064095 -118.448082   87.094864  1.678706e+09   0.089408   \n",
       "15        8429  34.098118 -118.294556   89.760025  1.678706e+09  10.773664   \n",
       "16        8529  34.011105 -118.279381   87.000000  1.678706e+09  12.025375   \n",
       "17        3869  34.055138 -118.277657   27.780661  1.678706e+09   9.879584   \n",
       "18        5766  34.064095 -118.448082   87.094864  1.678706e+09   0.089408   \n",
       "19        8429  34.098118 -118.294556   89.760025  1.678706e+09  10.773664   \n",
       "20        8529  34.011105 -118.279381   87.000000  1.678706e+09  12.025375   \n",
       "21        3869  34.055138 -118.277657   27.780661  1.678706e+09   9.879584   \n",
       "22        5766  34.064095 -118.448082   87.094864  1.678706e+09   0.089408   \n",
       "23        8429  34.098118 -118.294556   89.760025  1.678706e+09  10.773664   \n",
       "24        8529  34.011105 -118.279381   87.000000  1.678706e+09  12.025375   \n",
       "25        3869  34.055138 -118.277657   27.780661  1.678706e+09   9.879584   \n",
       "26        5766  34.064095 -118.448082   87.094864  1.678706e+09   0.089408   \n",
       "27        8429  34.098118 -118.294556   89.760025  1.678706e+09  10.773664   \n",
       "28        8529  34.012959 -118.279282  208.000000  1.678706e+09   5.051552   \n",
       "29        3869  34.057434 -118.276169   27.705229  1.678706e+09   3.889248   \n",
       "30        5766  34.064095 -118.448082   88.641846  1.678706e+09   0.044704   \n",
       "31        8429  34.098122 -118.290817   89.903946  1.678706e+09   6.616192   \n",
       "32        8529  34.012959 -118.279282  208.000000  1.678706e+09   5.051552   \n",
       "33        3869  34.057434 -118.276169   27.705229  1.678706e+09   3.889248   \n",
       "34        5766  34.064095 -118.448082   88.641846  1.678706e+09   0.044704   \n",
       "35        8429  34.098122 -118.290817   89.903946  1.678706e+09   6.616192   \n",
       "36        8529  34.012959 -118.279282  208.000000  1.678706e+09   5.051552   \n",
       "37        3869  34.057434 -118.276169   27.705229  1.678706e+09   3.889248   \n",
       "38        5766  34.064095 -118.448082   88.641846  1.678706e+09   0.044704   \n",
       "39        8429  34.098122 -118.290817   89.903946  1.678706e+09   6.616192   \n",
       "\n",
       "                         time  \n",
       "0   2023-03-13 04:09:20-07:00  \n",
       "1   2023-03-13 04:09:19-07:00  \n",
       "2   2023-03-13 04:09:17-07:00  \n",
       "3   2023-03-13 04:09:18-07:00  \n",
       "4   2023-03-13 04:10:30-07:00  \n",
       "5   2023-03-13 04:10:29-07:00  \n",
       "6   2023-03-13 04:10:27-07:00  \n",
       "7   2023-03-13 04:10:28-07:00  \n",
       "8   2023-03-13 04:10:30-07:00  \n",
       "9   2023-03-13 04:10:29-07:00  \n",
       "10  2023-03-13 04:10:27-07:00  \n",
       "11  2023-03-13 04:10:28-07:00  \n",
       "12  2023-03-13 04:10:30-07:00  \n",
       "13  2023-03-13 04:10:29-07:00  \n",
       "14  2023-03-13 04:10:27-07:00  \n",
       "15  2023-03-13 04:10:28-07:00  \n",
       "16  2023-03-13 04:10:30-07:00  \n",
       "17  2023-03-13 04:10:29-07:00  \n",
       "18  2023-03-13 04:10:27-07:00  \n",
       "19  2023-03-13 04:10:28-07:00  \n",
       "20  2023-03-13 04:10:30-07:00  \n",
       "21  2023-03-13 04:10:29-07:00  \n",
       "22  2023-03-13 04:10:27-07:00  \n",
       "23  2023-03-13 04:10:28-07:00  \n",
       "24  2023-03-13 04:10:30-07:00  \n",
       "25  2023-03-13 04:10:29-07:00  \n",
       "26  2023-03-13 04:10:27-07:00  \n",
       "27  2023-03-13 04:10:28-07:00  \n",
       "28  2023-03-13 04:11:30-07:00  \n",
       "29  2023-03-13 04:11:29-07:00  \n",
       "30  2023-03-13 04:11:27-07:00  \n",
       "31  2023-03-13 04:11:28-07:00  \n",
       "32  2023-03-13 04:11:30-07:00  \n",
       "33  2023-03-13 04:11:29-07:00  \n",
       "34  2023-03-13 04:11:27-07:00  \n",
       "35  2023-03-13 04:11:28-07:00  \n",
       "36  2023-03-13 04:11:30-07:00  \n",
       "37  2023-03-13 04:11:29-07:00  \n",
       "38  2023-03-13 04:11:27-07:00  \n",
       "39  2023-03-13 04:11:28-07:00  "
      ]
     },
     "execution_count": 25,
     "metadata": {},
     "output_type": "execute_result"
    }
   ],
   "source": [
    "df"
   ]
  },
  {
   "cell_type": "markdown",
   "metadata": {
    "slideshow": {
     "slide_type": "slide"
    }
   },
   "source": [
    "## Map it"
   ]
  },
  {
   "cell_type": "markdown",
   "metadata": {
    "slideshow": {
     "slide_type": "-"
    }
   },
   "source": [
    "### Plotly"
   ]
  },
  {
   "cell_type": "code",
   "execution_count": 26,
   "metadata": {},
   "outputs": [],
   "source": [
    "# convert the id to a string so that plotly recognizes it as a categorical field\n",
    "df['vehicle_id'] = df['vehicle_id'].astype(str)"
   ]
  },
  {
   "cell_type": "code",
   "execution_count": 30,
   "metadata": {},
   "outputs": [
    {
     "data": {
      "application/vnd.plotly.v1+json": {
       "config": {
        "plotlyServerURL": "https://plot.ly"
       },
       "data": [
        {
         "hovertemplate": "vehicle_id=8529<br>latitude=%{lat}<br>longitude=%{lon}<extra></extra>",
         "lat": [
          34.01129531860352,
          34.011104583740234,
          34.011104583740234,
          34.011104583740234,
          34.011104583740234,
          34.011104583740234,
          34.011104583740234,
          34.01295852661133,
          34.01295852661133,
          34.01295852661133
         ],
         "legendgroup": "8529",
         "lon": [
          -118.2815399169922,
          -118.27938079833984,
          -118.27938079833984,
          -118.27938079833984,
          -118.27938079833984,
          -118.27938079833984,
          -118.27938079833984,
          -118.27928161621094,
          -118.27928161621094,
          -118.27928161621094
         ],
         "marker": {
          "color": "#636efa"
         },
         "mode": "markers",
         "name": "8529",
         "showlegend": true,
         "subplot": "mapbox",
         "type": "scattermapbox"
        },
        {
         "hovertemplate": "vehicle_id=3869<br>latitude=%{lat}<br>longitude=%{lon}<extra></extra>",
         "lat": [
          34.051841735839844,
          34.055137634277344,
          34.055137634277344,
          34.055137634277344,
          34.055137634277344,
          34.055137634277344,
          34.055137634277344,
          34.05743408203125,
          34.05743408203125,
          34.05743408203125
         ],
         "legendgroup": "3869",
         "lon": [
          -118.2797393798828,
          -118.27765655517578,
          -118.27765655517578,
          -118.27765655517578,
          -118.27765655517578,
          -118.27765655517578,
          -118.27765655517578,
          -118.2761688232422,
          -118.2761688232422,
          -118.2761688232422
         ],
         "marker": {
          "color": "#EF553B"
         },
         "mode": "markers",
         "name": "3869",
         "showlegend": true,
         "subplot": "mapbox",
         "type": "scattermapbox"
        },
        {
         "hovertemplate": "vehicle_id=5766<br>latitude=%{lat}<br>longitude=%{lon}<extra></extra>",
         "lat": [
          34.06409454345703,
          34.06409454345703,
          34.06409454345703,
          34.06409454345703,
          34.06409454345703,
          34.06409454345703,
          34.06409454345703,
          34.06409454345703,
          34.06409454345703,
          34.06409454345703
         ],
         "legendgroup": "5766",
         "lon": [
          -118.44808197021484,
          -118.44808197021484,
          -118.44808197021484,
          -118.44808197021484,
          -118.44808197021484,
          -118.44808197021484,
          -118.44808197021484,
          -118.44808197021484,
          -118.44808197021484,
          -118.44808197021484
         ],
         "marker": {
          "color": "#00cc96"
         },
         "mode": "markers",
         "name": "5766",
         "showlegend": true,
         "subplot": "mapbox",
         "type": "scattermapbox"
        },
        {
         "hovertemplate": "vehicle_id=8429<br>latitude=%{lat}<br>longitude=%{lon}<extra></extra>",
         "lat": [
          34.09806442260742,
          34.09811782836914,
          34.09811782836914,
          34.09811782836914,
          34.09811782836914,
          34.09811782836914,
          34.09811782836914,
          34.098121643066406,
          34.098121643066406,
          34.098121643066406
         ],
         "legendgroup": "8429",
         "lon": [
          -118.3007354736328,
          -118.2945556640625,
          -118.2945556640625,
          -118.2945556640625,
          -118.2945556640625,
          -118.2945556640625,
          -118.2945556640625,
          -118.2908172607422,
          -118.2908172607422,
          -118.2908172607422
         ],
         "marker": {
          "color": "#ab63fa"
         },
         "mode": "markers",
         "name": "8429",
         "showlegend": true,
         "subplot": "mapbox",
         "type": "scattermapbox"
        }
       ],
       "layout": {
        "legend": {
         "title": {
          "text": "vehicle_id"
         },
         "tracegroupgap": 0
        },
        "mapbox": {
         "center": {
          "lat": 34.05734624862671,
          "lon": -118.32477989196778
         },
         "domain": {
          "x": [
           0,
           1
          ],
          "y": [
           0,
           1
          ]
         },
         "style": "carto-positron",
         "zoom": 10
        },
        "margin": {
         "t": 60
        },
        "template": {
         "data": {
          "bar": [
           {
            "error_x": {
             "color": "#2a3f5f"
            },
            "error_y": {
             "color": "#2a3f5f"
            },
            "marker": {
             "line": {
              "color": "#E5ECF6",
              "width": 0.5
             },
             "pattern": {
              "fillmode": "overlay",
              "size": 10,
              "solidity": 0.2
             }
            },
            "type": "bar"
           }
          ],
          "barpolar": [
           {
            "marker": {
             "line": {
              "color": "#E5ECF6",
              "width": 0.5
             },
             "pattern": {
              "fillmode": "overlay",
              "size": 10,
              "solidity": 0.2
             }
            },
            "type": "barpolar"
           }
          ],
          "carpet": [
           {
            "aaxis": {
             "endlinecolor": "#2a3f5f",
             "gridcolor": "white",
             "linecolor": "white",
             "minorgridcolor": "white",
             "startlinecolor": "#2a3f5f"
            },
            "baxis": {
             "endlinecolor": "#2a3f5f",
             "gridcolor": "white",
             "linecolor": "white",
             "minorgridcolor": "white",
             "startlinecolor": "#2a3f5f"
            },
            "type": "carpet"
           }
          ],
          "choropleth": [
           {
            "colorbar": {
             "outlinewidth": 0,
             "ticks": ""
            },
            "type": "choropleth"
           }
          ],
          "contour": [
           {
            "colorbar": {
             "outlinewidth": 0,
             "ticks": ""
            },
            "colorscale": [
             [
              0,
              "#0d0887"
             ],
             [
              0.1111111111111111,
              "#46039f"
             ],
             [
              0.2222222222222222,
              "#7201a8"
             ],
             [
              0.3333333333333333,
              "#9c179e"
             ],
             [
              0.4444444444444444,
              "#bd3786"
             ],
             [
              0.5555555555555556,
              "#d8576b"
             ],
             [
              0.6666666666666666,
              "#ed7953"
             ],
             [
              0.7777777777777778,
              "#fb9f3a"
             ],
             [
              0.8888888888888888,
              "#fdca26"
             ],
             [
              1,
              "#f0f921"
             ]
            ],
            "type": "contour"
           }
          ],
          "contourcarpet": [
           {
            "colorbar": {
             "outlinewidth": 0,
             "ticks": ""
            },
            "type": "contourcarpet"
           }
          ],
          "heatmap": [
           {
            "colorbar": {
             "outlinewidth": 0,
             "ticks": ""
            },
            "colorscale": [
             [
              0,
              "#0d0887"
             ],
             [
              0.1111111111111111,
              "#46039f"
             ],
             [
              0.2222222222222222,
              "#7201a8"
             ],
             [
              0.3333333333333333,
              "#9c179e"
             ],
             [
              0.4444444444444444,
              "#bd3786"
             ],
             [
              0.5555555555555556,
              "#d8576b"
             ],
             [
              0.6666666666666666,
              "#ed7953"
             ],
             [
              0.7777777777777778,
              "#fb9f3a"
             ],
             [
              0.8888888888888888,
              "#fdca26"
             ],
             [
              1,
              "#f0f921"
             ]
            ],
            "type": "heatmap"
           }
          ],
          "heatmapgl": [
           {
            "colorbar": {
             "outlinewidth": 0,
             "ticks": ""
            },
            "colorscale": [
             [
              0,
              "#0d0887"
             ],
             [
              0.1111111111111111,
              "#46039f"
             ],
             [
              0.2222222222222222,
              "#7201a8"
             ],
             [
              0.3333333333333333,
              "#9c179e"
             ],
             [
              0.4444444444444444,
              "#bd3786"
             ],
             [
              0.5555555555555556,
              "#d8576b"
             ],
             [
              0.6666666666666666,
              "#ed7953"
             ],
             [
              0.7777777777777778,
              "#fb9f3a"
             ],
             [
              0.8888888888888888,
              "#fdca26"
             ],
             [
              1,
              "#f0f921"
             ]
            ],
            "type": "heatmapgl"
           }
          ],
          "histogram": [
           {
            "marker": {
             "pattern": {
              "fillmode": "overlay",
              "size": 10,
              "solidity": 0.2
             }
            },
            "type": "histogram"
           }
          ],
          "histogram2d": [
           {
            "colorbar": {
             "outlinewidth": 0,
             "ticks": ""
            },
            "colorscale": [
             [
              0,
              "#0d0887"
             ],
             [
              0.1111111111111111,
              "#46039f"
             ],
             [
              0.2222222222222222,
              "#7201a8"
             ],
             [
              0.3333333333333333,
              "#9c179e"
             ],
             [
              0.4444444444444444,
              "#bd3786"
             ],
             [
              0.5555555555555556,
              "#d8576b"
             ],
             [
              0.6666666666666666,
              "#ed7953"
             ],
             [
              0.7777777777777778,
              "#fb9f3a"
             ],
             [
              0.8888888888888888,
              "#fdca26"
             ],
             [
              1,
              "#f0f921"
             ]
            ],
            "type": "histogram2d"
           }
          ],
          "histogram2dcontour": [
           {
            "colorbar": {
             "outlinewidth": 0,
             "ticks": ""
            },
            "colorscale": [
             [
              0,
              "#0d0887"
             ],
             [
              0.1111111111111111,
              "#46039f"
             ],
             [
              0.2222222222222222,
              "#7201a8"
             ],
             [
              0.3333333333333333,
              "#9c179e"
             ],
             [
              0.4444444444444444,
              "#bd3786"
             ],
             [
              0.5555555555555556,
              "#d8576b"
             ],
             [
              0.6666666666666666,
              "#ed7953"
             ],
             [
              0.7777777777777778,
              "#fb9f3a"
             ],
             [
              0.8888888888888888,
              "#fdca26"
             ],
             [
              1,
              "#f0f921"
             ]
            ],
            "type": "histogram2dcontour"
           }
          ],
          "mesh3d": [
           {
            "colorbar": {
             "outlinewidth": 0,
             "ticks": ""
            },
            "type": "mesh3d"
           }
          ],
          "parcoords": [
           {
            "line": {
             "colorbar": {
              "outlinewidth": 0,
              "ticks": ""
             }
            },
            "type": "parcoords"
           }
          ],
          "pie": [
           {
            "automargin": true,
            "type": "pie"
           }
          ],
          "scatter": [
           {
            "fillpattern": {
             "fillmode": "overlay",
             "size": 10,
             "solidity": 0.2
            },
            "type": "scatter"
           }
          ],
          "scatter3d": [
           {
            "line": {
             "colorbar": {
              "outlinewidth": 0,
              "ticks": ""
             }
            },
            "marker": {
             "colorbar": {
              "outlinewidth": 0,
              "ticks": ""
             }
            },
            "type": "scatter3d"
           }
          ],
          "scattercarpet": [
           {
            "marker": {
             "colorbar": {
              "outlinewidth": 0,
              "ticks": ""
             }
            },
            "type": "scattercarpet"
           }
          ],
          "scattergeo": [
           {
            "marker": {
             "colorbar": {
              "outlinewidth": 0,
              "ticks": ""
             }
            },
            "type": "scattergeo"
           }
          ],
          "scattergl": [
           {
            "marker": {
             "colorbar": {
              "outlinewidth": 0,
              "ticks": ""
             }
            },
            "type": "scattergl"
           }
          ],
          "scattermapbox": [
           {
            "marker": {
             "colorbar": {
              "outlinewidth": 0,
              "ticks": ""
             }
            },
            "type": "scattermapbox"
           }
          ],
          "scatterpolar": [
           {
            "marker": {
             "colorbar": {
              "outlinewidth": 0,
              "ticks": ""
             }
            },
            "type": "scatterpolar"
           }
          ],
          "scatterpolargl": [
           {
            "marker": {
             "colorbar": {
              "outlinewidth": 0,
              "ticks": ""
             }
            },
            "type": "scatterpolargl"
           }
          ],
          "scatterternary": [
           {
            "marker": {
             "colorbar": {
              "outlinewidth": 0,
              "ticks": ""
             }
            },
            "type": "scatterternary"
           }
          ],
          "surface": [
           {
            "colorbar": {
             "outlinewidth": 0,
             "ticks": ""
            },
            "colorscale": [
             [
              0,
              "#0d0887"
             ],
             [
              0.1111111111111111,
              "#46039f"
             ],
             [
              0.2222222222222222,
              "#7201a8"
             ],
             [
              0.3333333333333333,
              "#9c179e"
             ],
             [
              0.4444444444444444,
              "#bd3786"
             ],
             [
              0.5555555555555556,
              "#d8576b"
             ],
             [
              0.6666666666666666,
              "#ed7953"
             ],
             [
              0.7777777777777778,
              "#fb9f3a"
             ],
             [
              0.8888888888888888,
              "#fdca26"
             ],
             [
              1,
              "#f0f921"
             ]
            ],
            "type": "surface"
           }
          ],
          "table": [
           {
            "cells": {
             "fill": {
              "color": "#EBF0F8"
             },
             "line": {
              "color": "white"
             }
            },
            "header": {
             "fill": {
              "color": "#C8D4E3"
             },
             "line": {
              "color": "white"
             }
            },
            "type": "table"
           }
          ]
         },
         "layout": {
          "annotationdefaults": {
           "arrowcolor": "#2a3f5f",
           "arrowhead": 0,
           "arrowwidth": 1
          },
          "autotypenumbers": "strict",
          "coloraxis": {
           "colorbar": {
            "outlinewidth": 0,
            "ticks": ""
           }
          },
          "colorscale": {
           "diverging": [
            [
             0,
             "#8e0152"
            ],
            [
             0.1,
             "#c51b7d"
            ],
            [
             0.2,
             "#de77ae"
            ],
            [
             0.3,
             "#f1b6da"
            ],
            [
             0.4,
             "#fde0ef"
            ],
            [
             0.5,
             "#f7f7f7"
            ],
            [
             0.6,
             "#e6f5d0"
            ],
            [
             0.7,
             "#b8e186"
            ],
            [
             0.8,
             "#7fbc41"
            ],
            [
             0.9,
             "#4d9221"
            ],
            [
             1,
             "#276419"
            ]
           ],
           "sequential": [
            [
             0,
             "#0d0887"
            ],
            [
             0.1111111111111111,
             "#46039f"
            ],
            [
             0.2222222222222222,
             "#7201a8"
            ],
            [
             0.3333333333333333,
             "#9c179e"
            ],
            [
             0.4444444444444444,
             "#bd3786"
            ],
            [
             0.5555555555555556,
             "#d8576b"
            ],
            [
             0.6666666666666666,
             "#ed7953"
            ],
            [
             0.7777777777777778,
             "#fb9f3a"
            ],
            [
             0.8888888888888888,
             "#fdca26"
            ],
            [
             1,
             "#f0f921"
            ]
           ],
           "sequentialminus": [
            [
             0,
             "#0d0887"
            ],
            [
             0.1111111111111111,
             "#46039f"
            ],
            [
             0.2222222222222222,
             "#7201a8"
            ],
            [
             0.3333333333333333,
             "#9c179e"
            ],
            [
             0.4444444444444444,
             "#bd3786"
            ],
            [
             0.5555555555555556,
             "#d8576b"
            ],
            [
             0.6666666666666666,
             "#ed7953"
            ],
            [
             0.7777777777777778,
             "#fb9f3a"
            ],
            [
             0.8888888888888888,
             "#fdca26"
            ],
            [
             1,
             "#f0f921"
            ]
           ]
          },
          "colorway": [
           "#636efa",
           "#EF553B",
           "#00cc96",
           "#ab63fa",
           "#FFA15A",
           "#19d3f3",
           "#FF6692",
           "#B6E880",
           "#FF97FF",
           "#FECB52"
          ],
          "font": {
           "color": "#2a3f5f"
          },
          "geo": {
           "bgcolor": "white",
           "lakecolor": "white",
           "landcolor": "#E5ECF6",
           "showlakes": true,
           "showland": true,
           "subunitcolor": "white"
          },
          "hoverlabel": {
           "align": "left"
          },
          "hovermode": "closest",
          "mapbox": {
           "style": "light"
          },
          "paper_bgcolor": "white",
          "plot_bgcolor": "#E5ECF6",
          "polar": {
           "angularaxis": {
            "gridcolor": "white",
            "linecolor": "white",
            "ticks": ""
           },
           "bgcolor": "#E5ECF6",
           "radialaxis": {
            "gridcolor": "white",
            "linecolor": "white",
            "ticks": ""
           }
          },
          "scene": {
           "xaxis": {
            "backgroundcolor": "#E5ECF6",
            "gridcolor": "white",
            "gridwidth": 2,
            "linecolor": "white",
            "showbackground": true,
            "ticks": "",
            "zerolinecolor": "white"
           },
           "yaxis": {
            "backgroundcolor": "#E5ECF6",
            "gridcolor": "white",
            "gridwidth": 2,
            "linecolor": "white",
            "showbackground": true,
            "ticks": "",
            "zerolinecolor": "white"
           },
           "zaxis": {
            "backgroundcolor": "#E5ECF6",
            "gridcolor": "white",
            "gridwidth": 2,
            "linecolor": "white",
            "showbackground": true,
            "ticks": "",
            "zerolinecolor": "white"
           }
          },
          "shapedefaults": {
           "line": {
            "color": "#2a3f5f"
           }
          },
          "ternary": {
           "aaxis": {
            "gridcolor": "white",
            "linecolor": "white",
            "ticks": ""
           },
           "baxis": {
            "gridcolor": "white",
            "linecolor": "white",
            "ticks": ""
           },
           "bgcolor": "#E5ECF6",
           "caxis": {
            "gridcolor": "white",
            "linecolor": "white",
            "ticks": ""
           }
          },
          "title": {
           "x": 0.05
          },
          "xaxis": {
           "automargin": true,
           "gridcolor": "white",
           "linecolor": "white",
           "ticks": "",
           "title": {
            "standoff": 15
           },
           "zerolinecolor": "white",
           "zerolinewidth": 2
          },
          "yaxis": {
           "automargin": true,
           "gridcolor": "white",
           "linecolor": "white",
           "ticks": "",
           "title": {
            "standoff": 15
           },
           "zerolinecolor": "white",
           "zerolinewidth": 2
          }
         }
        }
       }
      }
     },
     "metadata": {},
     "output_type": "display_data"
    }
   ],
   "source": [
    "fig = px.scatter_mapbox(df,\n",
    "                        lat='latitude',\n",
    "                        lon='longitude',\n",
    "                        mapbox_style=\"carto-positron\",\n",
    "                        color= 'vehicle_id',\n",
    "                        zoom=10,\n",
    "                       )\n",
    "fig.show()"
   ]
  },
  {
   "cell_type": "markdown",
   "metadata": {
    "slideshow": {
     "slide_type": "slide"
    }
   },
   "source": [
    "### Kepler"
   ]
  },
  {
   "cell_type": "code",
   "execution_count": 35,
   "metadata": {},
   "outputs": [],
   "source": [
    "from keplergl import KeplerGl"
   ]
  },
  {
   "cell_type": "code",
   "execution_count": 36,
   "metadata": {
    "jupyter": {
     "source_hidden": true
    },
    "tags": []
   },
   "outputs": [
    {
     "name": "stdout",
     "output_type": "stream",
     "text": [
      "User Guide: https://docs.kepler.gl/docs/keplergl-jupyter\n"
     ]
    }
   ],
   "source": [
    "# create the kepler map (feeding it a config file so that it visualizes it based on prior settings)\n",
    "map = KeplerGl(height=600,width=800,config={\n",
    "  \"version\": \"v1\",\n",
    "  \"config\": {\n",
    "    \"visState\": {\n",
    "      \"filters\": [\n",
    "        {\n",
    "          \"dataId\": [\n",
    "            \"bus\"\n",
    "          ],\n",
    "          \"id\": \"yzpt6frz3\",\n",
    "          \"name\": [\n",
    "            \"time\"\n",
    "          ],\n",
    "          \"type\": \"timeRange\",\n",
    "          \"value\": [\n",
    "            1612886276000,\n",
    "            1612886287999.9995\n",
    "          ],\n",
    "          \"enlarged\": True,\n",
    "          \"plotType\": \"histogram\",\n",
    "          \"yAxis\": None\n",
    "        }\n",
    "      ],\n",
    "      \"layers\": [\n",
    "        {\n",
    "          \"id\": \"x9vz60j\",\n",
    "          \"type\": \"point\",\n",
    "          \"config\": {\n",
    "            \"dataId\": \"bus\",\n",
    "            \"label\": \"Point\",\n",
    "            \"color\": [\n",
    "              18,\n",
    "              147,\n",
    "              154\n",
    "            ],\n",
    "            \"columns\": {\n",
    "              \"lat\": \"latitude\",\n",
    "              \"lng\": \"longitude\",\n",
    "              \"altitude\": None\n",
    "            },\n",
    "            \"isVisible\": True,\n",
    "            \"visConfig\": {\n",
    "              \"radius\": 20.1,\n",
    "              \"fixedRadius\": False,\n",
    "              \"opacity\": 0.8,\n",
    "              \"outline\": False,\n",
    "              \"thickness\": 2,\n",
    "              \"strokeColor\": None,\n",
    "              \"colorRange\": {\n",
    "                \"name\": \"ColorBrewer Set1-6\",\n",
    "                \"type\": \"qualitative\",\n",
    "                \"category\": \"ColorBrewer\",\n",
    "                \"colors\": [\n",
    "                  \"#e41a1c\",\n",
    "                  \"#377eb8\",\n",
    "                  \"#4daf4a\",\n",
    "                  \"#984ea3\",\n",
    "                  \"#ff7f00\",\n",
    "                  \"#ffff33\"\n",
    "                ]\n",
    "              },\n",
    "              \"strokeColorRange\": {\n",
    "                \"name\": \"Global Warming\",\n",
    "                \"type\": \"sequential\",\n",
    "                \"category\": \"Uber\",\n",
    "                \"colors\": [\n",
    "                  \"#5A1846\",\n",
    "                  \"#900C3F\",\n",
    "                  \"#C70039\",\n",
    "                  \"#E3611C\",\n",
    "                  \"#F1920E\",\n",
    "                  \"#FFC300\"\n",
    "                ]\n",
    "              },\n",
    "              \"radiusRange\": [\n",
    "                0,\n",
    "                50\n",
    "              ],\n",
    "              \"filled\": True\n",
    "            },\n",
    "            \"hidden\": False,\n",
    "            \"textLabel\": [\n",
    "              {\n",
    "                \"field\": None,\n",
    "                \"color\": [\n",
    "                  255,\n",
    "                  255,\n",
    "                  255\n",
    "                ],\n",
    "                \"size\": 18,\n",
    "                \"offset\": [\n",
    "                  0,\n",
    "                  0\n",
    "                ],\n",
    "                \"anchor\": \"start\",\n",
    "                \"alignment\": \"center\"\n",
    "              }\n",
    "            ]\n",
    "          },\n",
    "          \"visualChannels\": {\n",
    "            \"colorField\": {\n",
    "              \"name\": \"vehicle_id\",\n",
    "              \"type\": \"integer\"\n",
    "            },\n",
    "            \"colorScale\": \"quantile\",\n",
    "            \"strokeColorField\": None,\n",
    "            \"strokeColorScale\": \"quantile\",\n",
    "            \"sizeField\": None,\n",
    "            \"sizeScale\": \"linear\"\n",
    "          }\n",
    "        }\n",
    "      ],\n",
    "      \"interactionConfig\": {\n",
    "        \"tooltip\": {\n",
    "          \"fieldsToShow\": {\n",
    "            \"bus\": [\n",
    "              {\n",
    "                \"name\": \"route_id\",\n",
    "                \"format\": None\n",
    "              },\n",
    "              {\n",
    "                \"name\": \"heading\",\n",
    "                \"format\": None\n",
    "              },\n",
    "              {\n",
    "                \"name\": \"id\",\n",
    "                \"format\": None\n",
    "              },\n",
    "              {\n",
    "                \"name\": \"predictable\",\n",
    "                \"format\": None\n",
    "              },\n",
    "              {\n",
    "                \"name\": \"seconds_since_report\",\n",
    "                \"format\": None\n",
    "              }\n",
    "            ]\n",
    "          },\n",
    "          \"compareMode\": False,\n",
    "          \"compareType\": \"absolute\",\n",
    "          \"enabled\": True\n",
    "        },\n",
    "        \"brush\": {\n",
    "          \"size\": 0.5,\n",
    "          \"enabled\": False\n",
    "        },\n",
    "        \"geocoder\": {\n",
    "          \"enabled\": False\n",
    "        },\n",
    "        \"coordinate\": {\n",
    "          \"enabled\": False\n",
    "        }\n",
    "      },\n",
    "      \"layerBlending\": \"normal\",\n",
    "      \"splitMaps\": [],\n",
    "      \"animationConfig\": {\n",
    "        \"currentTime\": None,\n",
    "        \"speed\": 1\n",
    "      }\n",
    "    },\n",
    "    \"mapState\": {\n",
    "      \"bearing\": 17.204081632653057,\n",
    "      \"dragRotate\": True,\n",
    "      \"latitude\": 34.03641872791707,\n",
    "      \"longitude\": -118.3557812310633,\n",
    "      \"pitch\": 51.96682037600022,\n",
    "      \"zoom\": 11.451941083083048,\n",
    "      \"isSplit\": False\n",
    "    },\n",
    "    \"mapStyle\": {\n",
    "      \"styleType\": \"dark\",\n",
    "      \"topLayerGroups\": {},\n",
    "      \"visibleLayerGroups\": {\n",
    "        \"label\": True,\n",
    "        \"road\": True,\n",
    "        \"border\": False,\n",
    "        \"building\": True,\n",
    "        \"water\": True,\n",
    "        \"land\": True,\n",
    "        \"3d building\": False\n",
    "      },\n",
    "      \"threeDBuildingColor\": [\n",
    "        9.665468314072013,\n",
    "        17.18305478057247,\n",
    "        31.1442867897876\n",
    "      ],\n",
    "      \"mapStyles\": {}\n",
    "    }\n",
    "  }\n",
    "})"
   ]
  },
  {
   "cell_type": "code",
   "execution_count": 37,
   "metadata": {
    "slideshow": {
     "slide_type": "slide"
    }
   },
   "outputs": [
    {
     "data": {
      "application/vnd.jupyter.widget-view+json": {
       "model_id": "22efda6476a24296a08a9aaca3285509",
       "version_major": 2,
       "version_minor": 0
      },
      "text/plain": [
       "KeplerGl(config={'version': 'v1', 'config': {'visState': {'filters': [{'dataId': ['bus'], 'id': 'yzpt6frz3', '…"
      ]
     },
     "metadata": {},
     "output_type": "display_data"
    }
   ],
   "source": [
    "# show the map\n",
    "map.add_data(data=df,name='bus')\n",
    "map"
   ]
  },
  {
   "cell_type": "markdown",
   "metadata": {
    "slideshow": {
     "slide_type": "slide"
    }
   },
   "source": [
    "Now it's your turn. Create map visualizations of other routes that Metro operates. "
   ]
  },
  {
   "cell_type": "code",
   "execution_count": null,
   "metadata": {},
   "outputs": [],
   "source": []
  }
 ],
 "metadata": {
  "celltoolbar": "Slideshow",
  "kernelspec": {
   "display_name": "Python 3 (ipykernel)",
   "language": "python",
   "name": "python3"
  },
  "language_info": {
   "codemirror_mode": {
    "name": "ipython",
    "version": 3
   },
   "file_extension": ".py",
   "mimetype": "text/x-python",
   "name": "python",
   "nbconvert_exporter": "python",
   "pygments_lexer": "ipython3",
   "version": "3.11.0"
  },
  "toc": {
   "base_numbering": 1,
   "nav_menu": {},
   "number_sections": true,
   "sideBar": true,
   "skip_h1_title": false,
   "title_cell": "Table of Contents",
   "title_sidebar": "Contents",
   "toc_cell": true,
   "toc_position": {
    "height": "calc(100% - 180px)",
    "left": "10px",
    "top": "150px",
    "width": "165px"
   },
   "toc_section_display": true,
   "toc_window_display": false
  }
 },
 "nbformat": 4,
 "nbformat_minor": 4
}
