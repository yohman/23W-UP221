{
 "cells": [
  {
   "cell_type": "markdown",
   "metadata": {
    "toc": true
   },
   "source": [
    "<h1>Table of Contents<span class=\"tocSkip\"></span></h1>\n",
    "<div class=\"toc\"><ul class=\"toc-item\"><li><span><a href=\"#A-real-time-bus-tracker\" data-toc-modified-id=\"A-real-time-bus-tracker-1\"><span class=\"toc-item-num\">1&nbsp;&nbsp;</span>A real-time bus tracker</a></span><ul class=\"toc-item\"><li><span><a href=\"#Import-libraries\" data-toc-modified-id=\"Import-libraries-1.1\"><span class=\"toc-item-num\">1.1&nbsp;&nbsp;</span>Import libraries</a></span></li><li><span><a href=\"#Playing-with-time\" data-toc-modified-id=\"Playing-with-time-1.2\"><span class=\"toc-item-num\">1.2&nbsp;&nbsp;</span>Playing with time</a></span></li><li><span><a href=\"#Import-data-from-metro-API\" data-toc-modified-id=\"Import-data-from-metro-API-1.3\"><span class=\"toc-item-num\">1.3&nbsp;&nbsp;</span>Import data from metro API</a></span><ul class=\"toc-item\"><li><span><a href=\"#Get-real-time-bus-locations-via-url-call\" data-toc-modified-id=\"Get-real-time-bus-locations-via-url-call-1.3.1\"><span class=\"toc-item-num\">1.3.1&nbsp;&nbsp;</span>Get real-time bus locations via url call</a></span></li><li><span><a href=\"#Convert-JSON-to-dataframe-and-add-a-timestamp\" data-toc-modified-id=\"Convert-JSON-to-dataframe-and-add-a-timestamp-1.3.2\"><span class=\"toc-item-num\">1.3.2&nbsp;&nbsp;</span>Convert JSON to dataframe and add a timestamp</a></span></li><li><span><a href=\"#Adjust-the-time\" data-toc-modified-id=\"Adjust-the-time-1.3.3\"><span class=\"toc-item-num\">1.3.3&nbsp;&nbsp;</span>Adjust the time</a></span></li><li><span><a href=\"#Create-an-empty-csv-file\" data-toc-modified-id=\"Create-an-empty-csv-file-1.3.4\"><span class=\"toc-item-num\">1.3.4&nbsp;&nbsp;</span>Create an empty csv file</a></span></li><li><span><a href=\"#Append-data-to-csv\" data-toc-modified-id=\"Append-data-to-csv-1.3.5\"><span class=\"toc-item-num\">1.3.5&nbsp;&nbsp;</span>Append data to csv</a></span></li></ul></li><li><span><a href=\"#Making-it-into-a-function\" data-toc-modified-id=\"Making-it-into-a-function-1.4\"><span class=\"toc-item-num\">1.4&nbsp;&nbsp;</span>Making it into a function</a></span></li><li><span><a href=\"#In-class-exercise\" data-toc-modified-id=\"In-class-exercise-1.5\"><span class=\"toc-item-num\">1.5&nbsp;&nbsp;</span>In class exercise</a></span></li><li><span><a href=\"#Automate-it\" data-toc-modified-id=\"Automate-it-1.6\"><span class=\"toc-item-num\">1.6&nbsp;&nbsp;</span>Automate it</a></span></li><li><span><a href=\"#Map-it\" data-toc-modified-id=\"Map-it-1.7\"><span class=\"toc-item-num\">1.7&nbsp;&nbsp;</span>Map it</a></span><ul class=\"toc-item\"><li><span><a href=\"#Plotly\" data-toc-modified-id=\"Plotly-1.7.1\"><span class=\"toc-item-num\">1.7.1&nbsp;&nbsp;</span>Plotly</a></span></li><li><span><a href=\"#Kepler\" data-toc-modified-id=\"Kepler-1.7.2\"><span class=\"toc-item-num\">1.7.2&nbsp;&nbsp;</span>Kepler</a></span></li></ul></li></ul></li></ul></div>"
   ]
  },
  {
   "cell_type": "markdown",
   "metadata": {},
   "source": [
    "<div class=\"alert alert-danger\">\n",
    "This lab will be recorded.\n",
    "</div>"
   ]
  },
  {
   "cell_type": "markdown",
   "metadata": {
    "slideshow": {
     "slide_type": "slide"
    }
   },
   "source": [
    "# A real-time bus tracker\n",
    "\n",
    "<img src='images/buses.gif' width=400>\n",
    "\n",
    "The LA Metro API provides information on the exact location of buses that are currently in operation. Using this real-time bus data, we can generate maps that display the location of buses for any given route. Furthermore, we can utilize this feed to create an archive of bus location associated with their timestamps. By creating a script that continously collects this information, we can simulate bus movement in the city for further analysis."
   ]
  },
  {
   "cell_type": "markdown",
   "metadata": {
    "slideshow": {
     "slide_type": "slide"
    }
   },
   "source": [
    "## Import libraries"
   ]
  },
  {
   "cell_type": "code",
   "execution_count": null,
   "metadata": {},
   "outputs": [],
   "source": [
    "# libraries\n",
    "import pandas as pd\n",
    "import geopandas as gpd\n",
    "import matplotlib.pyplot as plt\n",
    "import plotly.express as px\n",
    "\n",
    "# to import and manipulate api/json data\n",
    "import urllib.request \n",
    "import json\n",
    "\n",
    "# to manipulate csv files\n",
    "import csv\n",
    "from csv import DictWriter\n",
    "\n",
    "# to work with time\n",
    "import datetime as dt\n",
    "from datetime import datetime\n",
    "import pytz\n",
    "from pytz import timezone"
   ]
  },
  {
   "cell_type": "markdown",
   "metadata": {
    "slideshow": {
     "slide_type": "slide"
    }
   },
   "source": [
    "## Playing with time\n",
    "\n",
    "<img src='images/World_Time_Zones_Map.png' width=800>\n",
    "\n",
    "[[Source: Wikimedia](https://upload.wikimedia.org/wikipedia/commons/8/88/World_Time_Zones_Map.png)]\n",
    "\n",
    "Time is not the easiest thing to work with in Python, or for that matter, any coding language. There are surprisingly many complications (e.g. date/time datatypes, date/time display formats, timezones, etc) that make it difficult to work with. Below are some of the very basic constructs of the datetime library, along with the [pytz](https://pythonhosted.org/pytz/) library that allows you to define timezones."
   ]
  },
  {
   "cell_type": "markdown",
   "metadata": {
    "slideshow": {
     "slide_type": "slide"
    }
   },
   "source": [
    "Time formats as strings:\n",
    "\n",
    "- https://docs.python.org/3/library/time.html#time.strftime\n",
    "    "
   ]
  },
  {
   "cell_type": "code",
   "execution_count": null,
   "metadata": {
    "slideshow": {
     "slide_type": "-"
    }
   },
   "outputs": [],
   "source": [
    "# giving the format of datetime\n",
    "format = \"%Y-%m-%d %H:%M:%S %Z%z\"\n",
    "\n",
    "# getting the current time in UTC timezone\n",
    "now_utc = datetime.now(timezone('UTC'))\n",
    "\n",
    "# Format the above DateTime using the strftime()\n",
    "print('Current Time in UTC TimeZone:',now_utc.strftime(format))\n",
    "\n",
    "# Converting to Asia/Tokyo time zone\n",
    "now_tokyo = now_utc.astimezone(timezone('Asia/Tokyo'))\n",
    "\n",
    "# Format the above datetime using the strftime()\n",
    "print('Current Time in Asia/Tokyo TimeZone:',now_tokyo.strftime(format))"
   ]
  },
  {
   "cell_type": "code",
   "execution_count": null,
   "metadata": {
    "slideshow": {
     "slide_type": "slide"
    },
    "tags": []
   },
   "outputs": [],
   "source": [
    "# what are the valid timezones?\n",
    "for tz in pytz.all_timezones:\n",
    "    print(tz)"
   ]
  },
  {
   "cell_type": "code",
   "execution_count": null,
   "metadata": {
    "slideshow": {
     "slide_type": "slide"
    }
   },
   "outputs": [],
   "source": [
    "# Using the logic above, output the time in LA right now\n",
    "\n"
   ]
  },
  {
   "cell_type": "code",
   "execution_count": null,
   "metadata": {},
   "outputs": [],
   "source": [
    "# How about other time formats, and/or timezones from around the world?\n",
    "\n"
   ]
  },
  {
   "cell_type": "markdown",
   "metadata": {
    "slideshow": {
     "slide_type": "slide"
    }
   },
   "source": [
    "# Import data from metro API\n",
    "\n",
    "![metro](https://i0.wp.com/brand.metro.net/wp-content/uploads/2018/08/metro-logo-preferred-e1543619521338.png?h=75)\n",
    "\n",
    "- https://api.metro.net/"
   ]
  },
  {
   "cell_type": "markdown",
   "metadata": {
    "slideshow": {
     "slide_type": "-"
    }
   },
   "source": [
    "### Get real-time bus locations via url call\n",
    "\n",
    "Note that the metro data is provided by our hardworking alumni friend Albert!\n",
    "\n",
    "- https://api.metro.net/LACMTA/vehicle_positions/route_code/20?geojson=true"
   ]
  },
  {
   "cell_type": "markdown",
   "metadata": {
    "slideshow": {
     "slide_type": "slide"
    }
   },
   "source": [
    "![Alt text](images/albert%20and%20yoh%20texts.png)"
   ]
  },
  {
   "cell_type": "markdown",
   "metadata": {
    "slideshow": {
     "slide_type": "slide"
    }
   },
   "source": [
    "Need help choosing a metro line?\n",
    "\n",
    "- https://www.metro.net/riding/schedules/"
   ]
  },
  {
   "cell_type": "code",
   "execution_count": null,
   "metadata": {},
   "outputs": [],
   "source": [
    "# metro line to scrape\n",
    "line = 4\n",
    "\n",
    "# get the data in geojson format\n",
    "gdf = gpd.read_file('https://api.metro.net/LACMTA/vehicle_positions/route_code/'+str(line)+'?geojson=true')\n"
   ]
  },
  {
   "cell_type": "code",
   "execution_count": null,
   "metadata": {
    "slideshow": {
     "slide_type": "slide"
    }
   },
   "outputs": [],
   "source": [
    "gdf.plot()"
   ]
  },
  {
   "cell_type": "markdown",
   "metadata": {
    "slideshow": {
     "slide_type": "slide"
    }
   },
   "source": [
    "## Data cleanup"
   ]
  },
  {
   "cell_type": "markdown",
   "metadata": {
    "slideshow": {
     "slide_type": "-"
    }
   },
   "source": [
    "### Converting JSON to columns and converting unix timestamps\n",
    "Some of the data fields are in ```json``` format, or ```dictionaries``` if we were to use python lingo. We need to \"explode\" these into separate columns. For example, to explode the \"trip\" column:"
   ]
  },
  {
   "cell_type": "code",
   "execution_count": null,
   "metadata": {
    "slideshow": {
     "slide_type": "slide"
    }
   },
   "outputs": [],
   "source": [
    "gdf.head()"
   ]
  },
  {
   "cell_type": "code",
   "execution_count": null,
   "metadata": {
    "slideshow": {
     "slide_type": "slide"
    }
   },
   "outputs": [],
   "source": [
    "# \"explode\" trip json data in trip column to separate columns\n",
    "gdf = pd.concat([gdf, gdf[\"trip\"].apply(pd.Series)], axis=1)\n",
    "gdf"
   ]
  },
  {
   "cell_type": "markdown",
   "metadata": {
    "slideshow": {
     "slide_type": "slide"
    }
   },
   "source": [
    "Now, repeat for ```vehicle``` and ```position``` columns:"
   ]
  },
  {
   "cell_type": "code",
   "execution_count": null,
   "metadata": {},
   "outputs": [],
   "source": [
    "gdf = pd.concat([gdf, gdf[\"vehicle\"].apply(pd.Series)], axis=1)\n",
    "gdf = pd.concat([gdf, gdf[\"position\"].apply(pd.Series)], axis=1)"
   ]
  },
  {
   "cell_type": "code",
   "execution_count": null,
   "metadata": {
    "slideshow": {
     "slide_type": "fragment"
    }
   },
   "outputs": [],
   "source": [
    "# drop unncessary columns\n",
    "gdf = gdf.drop(columns=['trip','vehicle','position','trip_id','trip_start_date','vehicle_label'])\n",
    "gdf"
   ]
  },
  {
   "cell_type": "markdown",
   "metadata": {
    "slideshow": {
     "slide_type": "slide"
    }
   },
   "source": [
    "### Converting timestamps\n",
    "\n",
    "Whoa, what's up with the timestamp column? Does anybody recognize this time format?"
   ]
  },
  {
   "cell_type": "code",
   "execution_count": null,
   "metadata": {
    "slideshow": {
     "slide_type": "fragment"
    }
   },
   "outputs": [],
   "source": [
    "gdf['timestamp']"
   ]
  },
  {
   "cell_type": "code",
   "execution_count": null,
   "metadata": {
    "slideshow": {
     "slide_type": "slide"
    }
   },
   "outputs": [],
   "source": [
    "# convert unix timestamp to human readable time\n",
    "gdf['time'] = pd.to_datetime(gdf['timestamp'],unit='s')"
   ]
  },
  {
   "cell_type": "code",
   "execution_count": null,
   "metadata": {
    "slideshow": {
     "slide_type": "fragment"
    }
   },
   "outputs": [],
   "source": [
    "# convert utc time to Los Angeles time\n",
    "gdf['time'] = gdf['time'].dt.tz_localize('UTC').dt.tz_convert('US/Pacific')\n",
    "gdf.head()"
   ]
  },
  {
   "cell_type": "markdown",
   "metadata": {
    "slideshow": {
     "slide_type": "slide"
    }
   },
   "source": [
    "### Create an empty csv file\n",
    "While we can save the metro data to a dataframe, let us also simultaneously save the data in a .csv file. The .csv file will allow the file to live outside of this jupyter notebook.\n",
    "\n",
    "Python allows you to \"write,\" or create a new csv file to your directory.\n",
    "\n",
    "- https://docs.python.org/3/library/csv.html\n",
    "\n",
    "We first create an empty csv file with the headers from our metro data feed."
   ]
  },
  {
   "cell_type": "code",
   "execution_count": null,
   "metadata": {
    "slideshow": {
     "slide_type": "slide"
    }
   },
   "outputs": [],
   "source": [
    "# name of csv file  \n",
    "filename = \"bus.csv\"\n",
    "    \n",
    "# field names to use as headers\n",
    "fields = list(gdf)\n",
    "\n",
    "fields"
   ]
  },
  {
   "cell_type": "code",
   "execution_count": null,
   "metadata": {
    "slideshow": {
     "slide_type": "slide"
    }
   },
   "outputs": [],
   "source": [
    "# write/create a new csv file ('w') \n",
    "with open(filename, 'w') as csvfile:  \n",
    "    # creating a csv writer object  \n",
    "    csvwriter = csv.writer(csvfile)  \n",
    "        \n",
    "    # writing the fields  \n",
    "    csvwriter.writerow(fields)  "
   ]
  },
  {
   "cell_type": "markdown",
   "metadata": {},
   "source": [
    "You should now see a new file `bus.csv` in your file directory. Check to make sure!"
   ]
  },
  {
   "cell_type": "markdown",
   "metadata": {
    "slideshow": {
     "slide_type": "slide"
    }
   },
   "source": [
    "### Append data to csv\n",
    "\n",
    "Check your JupyterHub file space and confirm that the file `bus.csv` has been created. Now, we will append the dataframe to the csv file."
   ]
  },
  {
   "cell_type": "code",
   "execution_count": null,
   "metadata": {
    "scrolled": true,
    "slideshow": {
     "slide_type": "fragment"
    }
   },
   "outputs": [],
   "source": [
    "# Open your CSV file in append mode ('a')\n",
    "with open('bus.csv', 'a') as busfile: \n",
    "      \n",
    "    # create a dictionary writer\n",
    "    dictwriter = DictWriter(busfile, fieldnames=fields) \n",
    "\n",
    "    # loop through each row and add it to the csv file\n",
    "    for index, row in gdf.iterrows():\n",
    "        #Pass the dictionary as an argument to the writerow() \n",
    "        dictwriter.writerow(row.to_dict()) \n",
    "  \n",
    "    #Close the file object \n",
    "    busfile.close()"
   ]
  },
  {
   "cell_type": "markdown",
   "metadata": {},
   "source": [
    "You csv file has been baked! Double click the file from your directory and confirm that the bus data is there (you might have to close your file once and reopen to see the changes)"
   ]
  },
  {
   "cell_type": "markdown",
   "metadata": {
    "slideshow": {
     "slide_type": "slide"
    }
   },
   "source": [
    "## Making it into a function\n",
    "\n",
    "We have now reviewed the entire workflow to do the following:\n",
    "\n",
    "- call the metro API and retrieve the location of \"live\" buses on a given route\n",
    "- convert the json data to a dataframe\n",
    "- create a timestamp for the data and adjust the timezone for Los Angeles\n",
    "- create a csv file of our data\n",
    "\n",
    "Next, let's create a function that does all of the above, which will allow us to automate the retrieval of bus data at given time intervals."
   ]
  },
  {
   "cell_type": "markdown",
   "metadata": {
    "slideshow": {
     "slide_type": "slide"
    }
   },
   "source": [
    "## In class exercise\n",
    "\n",
    "- create a function `scrape_metro()` that accepts an argument for `line` (with the default being `line = '2'`\n",
    "- add all the relevant steps (as shown in the code cells above) that produces the csv file with the adjusted timestamp\n",
    "- in another cell, run the function `scrape_metro()`\n",
    "- open the `bus.csv` file to make sure new rows have been added\n",
    "\n",
    "Perform these steps in the cells below. DO NOT SCROLL DOWN UNTIL YOU ARE DONE! The answers are below :)"
   ]
  },
  {
   "cell_type": "code",
   "execution_count": null,
   "metadata": {},
   "outputs": [],
   "source": []
  },
  {
   "cell_type": "code",
   "execution_count": null,
   "metadata": {},
   "outputs": [],
   "source": []
  },
  {
   "cell_type": "code",
   "execution_count": null,
   "metadata": {},
   "outputs": [],
   "source": []
  },
  {
   "cell_type": "code",
   "execution_count": null,
   "metadata": {},
   "outputs": [],
   "source": []
  },
  {
   "cell_type": "code",
   "execution_count": null,
   "metadata": {},
   "outputs": [],
   "source": []
  },
  {
   "cell_type": "code",
   "execution_count": null,
   "metadata": {},
   "outputs": [],
   "source": []
  },
  {
   "cell_type": "code",
   "execution_count": null,
   "metadata": {},
   "outputs": [],
   "source": []
  },
  {
   "cell_type": "code",
   "execution_count": null,
   "metadata": {},
   "outputs": [],
   "source": []
  },
  {
   "cell_type": "code",
   "execution_count": null,
   "metadata": {},
   "outputs": [],
   "source": []
  },
  {
   "cell_type": "code",
   "execution_count": null,
   "metadata": {},
   "outputs": [],
   "source": []
  },
  {
   "cell_type": "code",
   "execution_count": null,
   "metadata": {},
   "outputs": [],
   "source": []
  },
  {
   "cell_type": "code",
   "execution_count": null,
   "metadata": {},
   "outputs": [],
   "source": []
  },
  {
   "cell_type": "code",
   "execution_count": null,
   "metadata": {},
   "outputs": [],
   "source": []
  },
  {
   "cell_type": "code",
   "execution_count": null,
   "metadata": {},
   "outputs": [],
   "source": []
  },
  {
   "cell_type": "code",
   "execution_count": null,
   "metadata": {},
   "outputs": [],
   "source": []
  },
  {
   "cell_type": "code",
   "execution_count": null,
   "metadata": {
    "slideshow": {
     "slide_type": "slide"
    }
   },
   "outputs": [],
   "source": [
    "def scrape_metro(line=4):\n",
    "    # metro line to scrape\n",
    "    line = line\n",
    "\n",
    "    # api url for metro stops\n",
    "    # url = 'https://api.metro.net/agencies/lametro/routes/'+str(line)+'/vehicles/'\n",
    "\n",
    "    gdf = gpd.read_file('https://api.metro.net/LACMTA/vehicle_positions/route_code/'+str(line)+'?geojson=true')\n",
    "\n",
    "    gdf = pd.concat([gdf, gdf[\"trip\"].apply(pd.Series)], axis=1)\n",
    "    gdf = pd.concat([gdf, gdf[\"vehicle\"].apply(pd.Series)], axis=1)\n",
    "    gdf = pd.concat([gdf, gdf[\"position\"].apply(pd.Series)], axis=1)\n",
    "\n",
    "    # drop columns\n",
    "    gdf = gdf.drop(columns=['trip','vehicle','position','vehicle_label','trip_id','trip_start_date'])\n",
    "\n",
    "    gdf['time'] = pd.to_datetime(gdf['timestamp'],unit='s')\n",
    "\n",
    "    # convert utc time to Los Angeles time\n",
    "    gdf['time'] = gdf['time'].dt.tz_localize('UTC').dt.tz_convert('US/Pacific')\n",
    "    \n",
    "    # Open your CSV file in append mode ('a')\n",
    "    with open('bus.csv', 'a') as busfile: \n",
    "        \n",
    "        # create a dictionary writer\n",
    "        dictwriter = DictWriter(busfile, fieldnames=fields) \n",
    "\n",
    "        # loop through each row and add it to the csv file\n",
    "        for index, row in gdf.iterrows():\n",
    "            #Pass the dictionary as an argument to the writerow() \n",
    "            dictwriter.writerow(row.to_dict()) \n",
    "    \n",
    "        #Close the file object \n",
    "        busfile.close()"
   ]
  },
  {
   "cell_type": "code",
   "execution_count": null,
   "metadata": {
    "slideshow": {
     "slide_type": "slide"
    }
   },
   "outputs": [],
   "source": [
    "# test the function\n",
    "scrape_metro()"
   ]
  },
  {
   "cell_type": "markdown",
   "metadata": {},
   "source": [
    "Check the file bus.csv!"
   ]
  },
  {
   "cell_type": "markdown",
   "metadata": {
    "slideshow": {
     "slide_type": "slide"
    }
   },
   "source": [
    "## Automate it\n",
    "\n",
    "The beauty of coding is that we can automate our code. The following code cell uses the `time` library, along with a `while` loop to run our function every 10 seconds, 10 times. Of course, these numbers can be modified as you wish.\n",
    "\n",
    "First, recreate the `bus.csv` file:"
   ]
  },
  {
   "cell_type": "code",
   "execution_count": null,
   "metadata": {
    "slideshow": {
     "slide_type": "fragment"
    }
   },
   "outputs": [],
   "source": [
    "# write/create a new csv file ('w') \n",
    "with open(filename, 'w') as csvfile:  \n",
    "    # creating a csv writer object  \n",
    "    csvwriter = csv.writer(csvfile)  \n",
    "        \n",
    "    # writing the fields  \n",
    "    csvwriter.writerow(fields)  "
   ]
  },
  {
   "cell_type": "markdown",
   "metadata": {
    "slideshow": {
     "slide_type": "slide"
    }
   },
   "source": [
    "Next, run the while loop:"
   ]
  },
  {
   "cell_type": "code",
   "execution_count": null,
   "metadata": {
    "slideshow": {
     "slide_type": "-"
    }
   },
   "outputs": [],
   "source": [
    "import time\n",
    "\n",
    "# set a counter\n",
    "i = 1\n",
    "\n",
    "# how many times to run\n",
    "runtimes = 10\n",
    "\n",
    "# run every x seconds\n",
    "rest = 10\n",
    "\n",
    "# start message\n",
    "print('Starting metro scraper, once every '+str(rest)+' seconds for '+str(runtimes)+' iterations...')\n",
    "\n",
    "# start the loop\n",
    "while i <= runtimes:\n",
    "    # timestamp to print out\n",
    "    now = datetime.now(timezone('US/Pacific'))\n",
    "    now = now.strftime('%Y-%m-%d %H:%M:%S')\n",
    "\n",
    "    print(str(i) + ': ' + now)\n",
    "    scrape_metro()\n",
    "    i += 1\n",
    "    \n",
    "    # run this every x seconds\n",
    "    time.sleep(rest)"
   ]
  },
  {
   "cell_type": "markdown",
   "metadata": {
    "slideshow": {
     "slide_type": "slide"
    }
   },
   "source": [
    "If you see 10 lines above, you're done! Now, put the csv file into a dataframe:"
   ]
  },
  {
   "cell_type": "code",
   "execution_count": null,
   "metadata": {},
   "outputs": [],
   "source": [
    "# put data into dataframe\n",
    "df = pd.read_csv('bus.csv')"
   ]
  },
  {
   "cell_type": "code",
   "execution_count": null,
   "metadata": {
    "slideshow": {
     "slide_type": "slide"
    }
   },
   "outputs": [],
   "source": [
    "# check the data\n",
    "df.shape"
   ]
  },
  {
   "cell_type": "code",
   "execution_count": null,
   "metadata": {
    "slideshow": {
     "slide_type": "fragment"
    }
   },
   "outputs": [],
   "source": [
    "df.info()"
   ]
  },
  {
   "cell_type": "code",
   "execution_count": null,
   "metadata": {
    "slideshow": {
     "slide_type": "slide"
    }
   },
   "outputs": [],
   "source": [
    "df"
   ]
  },
  {
   "cell_type": "markdown",
   "metadata": {
    "slideshow": {
     "slide_type": "slide"
    }
   },
   "source": [
    "## Map it"
   ]
  },
  {
   "cell_type": "markdown",
   "metadata": {
    "slideshow": {
     "slide_type": "-"
    }
   },
   "source": [
    "### Plotly"
   ]
  },
  {
   "cell_type": "code",
   "execution_count": null,
   "metadata": {},
   "outputs": [],
   "source": [
    "# convert the id to a string so that plotly recognizes it as a categorical field\n",
    "df['vehicle_id'] = df['vehicle_id'].astype(str)"
   ]
  },
  {
   "cell_type": "code",
   "execution_count": null,
   "metadata": {
    "slideshow": {
     "slide_type": "slide"
    }
   },
   "outputs": [],
   "source": [
    "fig = px.scatter_mapbox(df,\n",
    "                        lat='latitude',\n",
    "                        lon='longitude',\n",
    "                        mapbox_style=\"carto-positron\",\n",
    "                        color= 'vehicle_id',\n",
    "                        zoom=10,\n",
    "                       )\n",
    "fig.show()"
   ]
  },
  {
   "cell_type": "markdown",
   "metadata": {
    "slideshow": {
     "slide_type": "slide"
    }
   },
   "source": [
    "### Kepler\n",
    "\n",
    "To demonstration the animated features of kepler, let's import a bus file that used the functions above to scrape data for 30 minutes."
   ]
  },
  {
   "cell_type": "code",
   "execution_count": null,
   "metadata": {},
   "outputs": [],
   "source": [
    "# import 30 minute bus locations for route 2\n",
    "df = pd.read_csv('bus_30_min_sample.csv')"
   ]
  },
  {
   "cell_type": "code",
   "execution_count": null,
   "metadata": {},
   "outputs": [],
   "source": [
    "from keplergl import KeplerGl"
   ]
  },
  {
   "cell_type": "code",
   "execution_count": null,
   "metadata": {
    "jupyter": {
     "source_hidden": true
    },
    "slideshow": {
     "slide_type": "slide"
    },
    "tags": []
   },
   "outputs": [],
   "source": [
    "# create the kepler map (feeding it a config file so that it visualizes it based on prior settings)\n",
    "map = KeplerGl(height=600,width=800,config={\n",
    "  \"version\": \"v1\",\n",
    "  \"config\": {\n",
    "    \"visState\": {\n",
    "      \"filters\": [\n",
    "        {\n",
    "          \"dataId\": [\n",
    "            \"bus\"\n",
    "          ],\n",
    "          \"id\": \"yzpt6frz3\",\n",
    "          \"name\": [\n",
    "            \"time\"\n",
    "          ],\n",
    "          \"type\": \"timeRange\",\n",
    "          \"value\": [\n",
    "            1612886276000,\n",
    "            1612886287999.9995\n",
    "          ],\n",
    "          \"enlarged\": True,\n",
    "          \"plotType\": \"histogram\",\n",
    "          \"yAxis\": None\n",
    "        }\n",
    "      ],\n",
    "      \"layers\": [\n",
    "        {\n",
    "          \"id\": \"x9vz60j\",\n",
    "          \"type\": \"point\",\n",
    "          \"config\": {\n",
    "            \"dataId\": \"bus\",\n",
    "            \"label\": \"Point\",\n",
    "            \"color\": [\n",
    "              18,\n",
    "              147,\n",
    "              154\n",
    "            ],\n",
    "            \"columns\": {\n",
    "              \"lat\": \"latitude\",\n",
    "              \"lng\": \"longitude\",\n",
    "              \"altitude\": None\n",
    "            },\n",
    "            \"isVisible\": True,\n",
    "            \"visConfig\": {\n",
    "              \"radius\": 20.1,\n",
    "              \"fixedRadius\": False,\n",
    "              \"opacity\": 0.8,\n",
    "              \"outline\": False,\n",
    "              \"thickness\": 2,\n",
    "              \"strokeColor\": None,\n",
    "              \"colorRange\": {\n",
    "                \"name\": \"ColorBrewer Set1-6\",\n",
    "                \"type\": \"qualitative\",\n",
    "                \"category\": \"ColorBrewer\",\n",
    "                \"colors\": [\n",
    "                  \"#e41a1c\",\n",
    "                  \"#377eb8\",\n",
    "                  \"#4daf4a\",\n",
    "                  \"#984ea3\",\n",
    "                  \"#ff7f00\",\n",
    "                  \"#ffff33\"\n",
    "                ]\n",
    "              },\n",
    "              \"strokeColorRange\": {\n",
    "                \"name\": \"Global Warming\",\n",
    "                \"type\": \"sequential\",\n",
    "                \"category\": \"Uber\",\n",
    "                \"colors\": [\n",
    "                  \"#5A1846\",\n",
    "                  \"#900C3F\",\n",
    "                  \"#C70039\",\n",
    "                  \"#E3611C\",\n",
    "                  \"#F1920E\",\n",
    "                  \"#FFC300\"\n",
    "                ]\n",
    "              },\n",
    "              \"radiusRange\": [\n",
    "                0,\n",
    "                50\n",
    "              ],\n",
    "              \"filled\": True\n",
    "            },\n",
    "            \"hidden\": False,\n",
    "            \"textLabel\": [\n",
    "              {\n",
    "                \"field\": None,\n",
    "                \"color\": [\n",
    "                  255,\n",
    "                  255,\n",
    "                  255\n",
    "                ],\n",
    "                \"size\": 18,\n",
    "                \"offset\": [\n",
    "                  0,\n",
    "                  0\n",
    "                ],\n",
    "                \"anchor\": \"start\",\n",
    "                \"alignment\": \"center\"\n",
    "              }\n",
    "            ]\n",
    "          },\n",
    "          \"visualChannels\": {\n",
    "            \"colorField\": {\n",
    "              \"name\": \"vehicle_id\",\n",
    "              \"type\": \"integer\"\n",
    "            },\n",
    "            \"colorScale\": \"quantile\",\n",
    "            \"strokeColorField\": None,\n",
    "            \"strokeColorScale\": \"quantile\",\n",
    "            \"sizeField\": None,\n",
    "            \"sizeScale\": \"linear\"\n",
    "          }\n",
    "        }\n",
    "      ],\n",
    "      \"interactionConfig\": {\n",
    "        \"tooltip\": {\n",
    "          \"fieldsToShow\": {\n",
    "            \"bus\": [\n",
    "              {\n",
    "                \"name\": \"route_id\",\n",
    "                \"format\": None\n",
    "              },\n",
    "              {\n",
    "                \"name\": \"heading\",\n",
    "                \"format\": None\n",
    "              },\n",
    "              {\n",
    "                \"name\": \"id\",\n",
    "                \"format\": None\n",
    "              },\n",
    "              {\n",
    "                \"name\": \"predictable\",\n",
    "                \"format\": None\n",
    "              },\n",
    "              {\n",
    "                \"name\": \"seconds_since_report\",\n",
    "                \"format\": None\n",
    "              }\n",
    "            ]\n",
    "          },\n",
    "          \"compareMode\": False,\n",
    "          \"compareType\": \"absolute\",\n",
    "          \"enabled\": True\n",
    "        },\n",
    "        \"brush\": {\n",
    "          \"size\": 0.5,\n",
    "          \"enabled\": False\n",
    "        },\n",
    "        \"geocoder\": {\n",
    "          \"enabled\": False\n",
    "        },\n",
    "        \"coordinate\": {\n",
    "          \"enabled\": False\n",
    "        }\n",
    "      },\n",
    "      \"layerBlending\": \"normal\",\n",
    "      \"splitMaps\": [],\n",
    "      \"animationConfig\": {\n",
    "        \"currentTime\": None,\n",
    "        \"speed\": 1\n",
    "      }\n",
    "    },\n",
    "    \"mapState\": {\n",
    "      \"bearing\": 17.204081632653057,\n",
    "      \"dragRotate\": True,\n",
    "      \"latitude\": 34.03641872791707,\n",
    "      \"longitude\": -118.3557812310633,\n",
    "      \"pitch\": 51.96682037600022,\n",
    "      \"zoom\": 11.451941083083048,\n",
    "      \"isSplit\": False\n",
    "    },\n",
    "    \"mapStyle\": {\n",
    "      \"styleType\": \"dark\",\n",
    "      \"topLayerGroups\": {},\n",
    "      \"visibleLayerGroups\": {\n",
    "        \"label\": True,\n",
    "        \"road\": True,\n",
    "        \"border\": False,\n",
    "        \"building\": True,\n",
    "        \"water\": True,\n",
    "        \"land\": True,\n",
    "        \"3d building\": False\n",
    "      },\n",
    "      \"threeDBuildingColor\": [\n",
    "        9.665468314072013,\n",
    "        17.18305478057247,\n",
    "        31.1442867897876\n",
    "      ],\n",
    "      \"mapStyles\": {}\n",
    "    }\n",
    "  }\n",
    "})"
   ]
  },
  {
   "cell_type": "code",
   "execution_count": null,
   "metadata": {
    "slideshow": {
     "slide_type": "slide"
    }
   },
   "outputs": [],
   "source": [
    "# show the map\n",
    "map.add_data(data=df,name='bus')\n",
    "map"
   ]
  },
  {
   "cell_type": "markdown",
   "metadata": {
    "slideshow": {
     "slide_type": "slide"
    }
   },
   "source": [
    "Now it's your turn. Create map visualizations of other routes that Metro operates. "
   ]
  },
  {
   "cell_type": "code",
   "execution_count": null,
   "metadata": {},
   "outputs": [],
   "source": []
  }
 ],
 "metadata": {
  "celltoolbar": "Slideshow",
  "kernelspec": {
   "display_name": "Python 3 (ipykernel)",
   "language": "python",
   "name": "python3"
  },
  "language_info": {
   "codemirror_mode": {
    "name": "ipython",
    "version": 3
   },
   "file_extension": ".py",
   "mimetype": "text/x-python",
   "name": "python",
   "nbconvert_exporter": "python",
   "pygments_lexer": "ipython3",
   "version": "3.10.8"
  },
  "toc": {
   "base_numbering": 1,
   "nav_menu": {},
   "number_sections": true,
   "sideBar": true,
   "skip_h1_title": false,
   "title_cell": "Table of Contents",
   "title_sidebar": "Contents",
   "toc_cell": true,
   "toc_position": {
    "height": "calc(100% - 180px)",
    "left": "10px",
    "top": "150px",
    "width": "165px"
   },
   "toc_section_display": true,
   "toc_window_display": false
  }
 },
 "nbformat": 4,
 "nbformat_minor": 4
}
